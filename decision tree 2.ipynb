{
 "cells": [
  {
   "cell_type": "code",
   "execution_count": 3,
   "metadata": {
    "collapsed": true
   },
   "outputs": [],
   "source": [
    "%matplotlib inline"
   ]
  },
  {
   "cell_type": "code",
   "execution_count": 4,
   "metadata": {
    "collapsed": true
   },
   "outputs": [],
   "source": [
    "import pandas as pd"
   ]
  },
  {
   "cell_type": "markdown",
   "metadata": {},
   "source": [
    "# Create list of columns"
   ]
  },
  {
   "cell_type": "code",
   "execution_count": 5,
   "metadata": {
    "collapsed": false
   },
   "outputs": [],
   "source": [
    "# clean up column names\n",
    "\n",
    "\n",
    "    \n",
    "def fix_col_name(col_split):\n",
    "        new_string = col_split[1].replace('(','')\n",
    "        new_string = new_string.replace(')','')\n",
    "        new_string = new_string.replace(',','-')\n",
    "        new_string = new_string.replace('BodyBody','Body')\n",
    "        new_string = new_string.replace('Body','')\n",
    "        new_string = new_string.replace('Mag','')\n",
    "        new_string = new_string.replace('mean','Mean')\n",
    "        new_string = new_string.replace('std','STD')\n",
    "        return(new_string)\n",
    "  \n",
    "col_list =[]\n",
    "x = 0\n",
    "with open('features.txt','r+') as feature_file:\n",
    "    for line in feature_file: # one line is one column\n",
    "#         print(line)\n",
    "        col_split = line.split() # splits the numbers and characters from the column into seperate fields to work with\n",
    "#         print(col_split)\n",
    "        new_col = fix_col_name(col_split)\n",
    "#         print(new_col)\n",
    "        col_list.append(new_col + col_split[0])\n",
    "#     col_list = remove_dups(col_list)\n",
    "#         break # stop at one record\n",
    "        \n",
    "        \n",
    "# Identify and fix the inclusion of ( ) in column names.\n",
    "# Identify and remove duplicate column names.\n",
    "# Identify and fix the inclusion of ‘-’ in column names.\n",
    "# Identify and fix extra ) in some column names.\n",
    "# Identify and fix inclusion of multiple ‘,’ in column names.\n",
    "# Identify and fix column names containing “BodyBody”\n",
    "# Drop 'Body' and 'Mag' from column names.\n",
    "# Map 'mean' and 'std' to 'Mean' and 'STD'\n",
    "# Make 'activity' a categorical variable.\n",
    "# Plot a histogram of Body Acceleration Magnitude (i.e. histogram of all 6 activities) to see how each variable does as a predictor of static versus dynamic activities.        \n",
    "\n"
   ]
  },
  {
   "cell_type": "code",
   "execution_count": 6,
   "metadata": {
    "collapsed": false
   },
   "outputs": [],
   "source": [
    "# print(len(col_list))\n",
    "# print(col_list)"
   ]
  },
  {
   "cell_type": "markdown",
   "metadata": {},
   "source": [
    "# # Import the data into pandas"
   ]
  },
  {
   "cell_type": "code",
   "execution_count": 8,
   "metadata": {
    "collapsed": false
   },
   "outputs": [],
   "source": [
    "\n",
    "Location = r'C:\\Users\\bob071988\\thinkful\\ds-new\\UCI\\test\\X_test.txt'\n",
    "\n",
    "df = pd.read_table(Location, header = None, delim_whitespace=True, names = col_list)"
   ]
  },
  {
   "cell_type": "code",
   "execution_count": 9,
   "metadata": {
    "collapsed": false
   },
   "outputs": [],
   "source": [
    "input_shape = df.shape"
   ]
  },
  {
   "cell_type": "code",
   "execution_count": 10,
   "metadata": {
    "collapsed": false
   },
   "outputs": [],
   "source": [
    "# df.head()"
   ]
  },
  {
   "cell_type": "code",
   "execution_count": 11,
   "metadata": {
    "collapsed": false
   },
   "outputs": [
    {
     "data": {
      "text/plain": [
       "561"
      ]
     },
     "execution_count": 11,
     "metadata": {},
     "output_type": "execute_result"
    }
   ],
   "source": [
    "len(col_list)"
   ]
  },
  {
   "cell_type": "code",
   "execution_count": 28,
   "metadata": {
    "collapsed": false
   },
   "outputs": [],
   "source": [
    "\n",
    "drop_list = ['angle','band']\n",
    "for col in df.columns.values:\n",
    "    for item in drop_list:\n",
    "        test = col.find(item) # returns -1 if item not found\n",
    "        #print(\"col is {} and item is {} and test is {}\".format(col,item, test))\n",
    "#         print(\"test val = {}\".format(test))\n",
    "        if test == -1:\n",
    "            pass\n",
    "            #print(\"keeping these = find value {} --- finding {} column value {}\".format(test,item, col))\n",
    "            \n",
    "        else:\n",
    "            #print(\"droping these = find value {} --- finding {} column value {}\".format(test,item, col))\n",
    "            df.drop(col, axis = 1, inplace = True)\n",
    "#             new_cols.remove(col) # useful to keep track of new list of columns in new df - could just use df.column.values though\n",
    "            break # if its in the drop list drop and stop looking"
   ]
  },
  {
   "cell_type": "code",
   "execution_count": 29,
   "metadata": {
    "collapsed": false
   },
   "outputs": [
    {
     "name": "stdout",
     "output_type": "stream",
     "text": [
      "2947\n",
      "2947\n",
      "429\n",
      "561\n"
     ]
    }
   ],
   "source": [
    "new_shape = df.shape\n",
    "print(new_shape[0])\n",
    "print(input_shape[0])\n",
    "print(new_shape[1])\n",
    "print(input_shape[1])"
   ]
  },
  {
   "cell_type": "code",
   "execution_count": 30,
   "metadata": {
    "collapsed": false
   },
   "outputs": [
    {
     "name": "stdout",
     "output_type": "stream",
     "text": [
      "removed 0 rows and 132 columns since input\n"
     ]
    }
   ],
   "source": [
    "print(\"removed {} rows and {} columns since input\".format(input_shape[0]-new_shape[0],input_shape[1]-new_shape[1]))"
   ]
  },
  {
   "cell_type": "code",
   "execution_count": 15,
   "metadata": {
    "collapsed": false
   },
   "outputs": [
    {
     "data": {
      "text/html": [
       "<div>\n",
       "<table border=\"1\" class=\"dataframe\">\n",
       "  <thead>\n",
       "    <tr style=\"text-align: right;\">\n",
       "      <th></th>\n",
       "      <th>tAcc-Mean-X1</th>\n",
       "      <th>tAcc-Mean-Y2</th>\n",
       "      <th>tAcc-Mean-Z3</th>\n",
       "      <th>tAcc-STD-X4</th>\n",
       "      <th>tAcc-STD-Y5</th>\n",
       "      <th>tAcc-STD-Z6</th>\n",
       "      <th>tAcc-mad-X7</th>\n",
       "      <th>tAcc-mad-Y8</th>\n",
       "      <th>tAcc-mad-Z9</th>\n",
       "      <th>tAcc-max-X10</th>\n",
       "      <th>...</th>\n",
       "      <th>fGyroJerk-max545</th>\n",
       "      <th>fGyroJerk-min546</th>\n",
       "      <th>fGyroJerk-sma547</th>\n",
       "      <th>fGyroJerk-energy548</th>\n",
       "      <th>fGyroJerk-iqr549</th>\n",
       "      <th>fGyroJerk-entropy550</th>\n",
       "      <th>fGyroJerk-maxInds551</th>\n",
       "      <th>fGyroJerk-MeanFreq552</th>\n",
       "      <th>fGyroJerk-skewness553</th>\n",
       "      <th>fGyroJerk-kurtosis554</th>\n",
       "    </tr>\n",
       "  </thead>\n",
       "  <tbody>\n",
       "    <tr>\n",
       "      <th>0</th>\n",
       "      <td>0.257178</td>\n",
       "      <td>-0.023285</td>\n",
       "      <td>-0.014654</td>\n",
       "      <td>-0.938404</td>\n",
       "      <td>-0.920091</td>\n",
       "      <td>-0.667683</td>\n",
       "      <td>-0.952501</td>\n",
       "      <td>-0.925249</td>\n",
       "      <td>-0.674302</td>\n",
       "      <td>-0.894088</td>\n",
       "      <td>...</td>\n",
       "      <td>-0.917883</td>\n",
       "      <td>-0.909829</td>\n",
       "      <td>-0.890165</td>\n",
       "      <td>-0.994105</td>\n",
       "      <td>-0.898022</td>\n",
       "      <td>-0.234815</td>\n",
       "      <td>-1.000000</td>\n",
       "      <td>0.071645</td>\n",
       "      <td>-0.330370</td>\n",
       "      <td>-0.705974</td>\n",
       "    </tr>\n",
       "    <tr>\n",
       "      <th>1</th>\n",
       "      <td>0.286027</td>\n",
       "      <td>-0.013163</td>\n",
       "      <td>-0.119083</td>\n",
       "      <td>-0.975415</td>\n",
       "      <td>-0.967458</td>\n",
       "      <td>-0.944958</td>\n",
       "      <td>-0.986799</td>\n",
       "      <td>-0.968401</td>\n",
       "      <td>-0.945823</td>\n",
       "      <td>-0.894088</td>\n",
       "      <td>...</td>\n",
       "      <td>-0.949922</td>\n",
       "      <td>-0.986902</td>\n",
       "      <td>-0.951977</td>\n",
       "      <td>-0.998272</td>\n",
       "      <td>-0.951255</td>\n",
       "      <td>-0.431053</td>\n",
       "      <td>-1.000000</td>\n",
       "      <td>-0.401189</td>\n",
       "      <td>-0.121845</td>\n",
       "      <td>-0.594944</td>\n",
       "    </tr>\n",
       "    <tr>\n",
       "      <th>2</th>\n",
       "      <td>0.275485</td>\n",
       "      <td>-0.026050</td>\n",
       "      <td>-0.118152</td>\n",
       "      <td>-0.993819</td>\n",
       "      <td>-0.969926</td>\n",
       "      <td>-0.962748</td>\n",
       "      <td>-0.994403</td>\n",
       "      <td>-0.970735</td>\n",
       "      <td>-0.963483</td>\n",
       "      <td>-0.939260</td>\n",
       "      <td>...</td>\n",
       "      <td>-0.986857</td>\n",
       "      <td>-0.989609</td>\n",
       "      <td>-0.985689</td>\n",
       "      <td>-0.999831</td>\n",
       "      <td>-0.986148</td>\n",
       "      <td>-0.809976</td>\n",
       "      <td>-0.936508</td>\n",
       "      <td>0.062891</td>\n",
       "      <td>-0.190422</td>\n",
       "      <td>-0.640736</td>\n",
       "    </tr>\n",
       "    <tr>\n",
       "      <th>3</th>\n",
       "      <td>0.270298</td>\n",
       "      <td>-0.032614</td>\n",
       "      <td>-0.117520</td>\n",
       "      <td>-0.994743</td>\n",
       "      <td>-0.973268</td>\n",
       "      <td>-0.967091</td>\n",
       "      <td>-0.995274</td>\n",
       "      <td>-0.974471</td>\n",
       "      <td>-0.968897</td>\n",
       "      <td>-0.938610</td>\n",
       "      <td>...</td>\n",
       "      <td>-0.988566</td>\n",
       "      <td>-0.992021</td>\n",
       "      <td>-0.985562</td>\n",
       "      <td>-0.999850</td>\n",
       "      <td>-0.984015</td>\n",
       "      <td>-0.849081</td>\n",
       "      <td>-0.936508</td>\n",
       "      <td>0.116695</td>\n",
       "      <td>-0.344418</td>\n",
       "      <td>-0.736124</td>\n",
       "    </tr>\n",
       "    <tr>\n",
       "      <th>4</th>\n",
       "      <td>0.274833</td>\n",
       "      <td>-0.027848</td>\n",
       "      <td>-0.129527</td>\n",
       "      <td>-0.993852</td>\n",
       "      <td>-0.967445</td>\n",
       "      <td>-0.978295</td>\n",
       "      <td>-0.994111</td>\n",
       "      <td>-0.965953</td>\n",
       "      <td>-0.977346</td>\n",
       "      <td>-0.938610</td>\n",
       "      <td>...</td>\n",
       "      <td>-0.992653</td>\n",
       "      <td>-0.992505</td>\n",
       "      <td>-0.990498</td>\n",
       "      <td>-0.999925</td>\n",
       "      <td>-0.986376</td>\n",
       "      <td>-0.895847</td>\n",
       "      <td>-0.936508</td>\n",
       "      <td>-0.121711</td>\n",
       "      <td>-0.534685</td>\n",
       "      <td>-0.846595</td>\n",
       "    </tr>\n",
       "  </tbody>\n",
       "</table>\n",
       "<p>5 rows × 428 columns</p>\n",
       "</div>"
      ],
      "text/plain": [
       "   tAcc-Mean-X1  tAcc-Mean-Y2  tAcc-Mean-Z3  tAcc-STD-X4  tAcc-STD-Y5  \\\n",
       "0      0.257178     -0.023285     -0.014654    -0.938404    -0.920091   \n",
       "1      0.286027     -0.013163     -0.119083    -0.975415    -0.967458   \n",
       "2      0.275485     -0.026050     -0.118152    -0.993819    -0.969926   \n",
       "3      0.270298     -0.032614     -0.117520    -0.994743    -0.973268   \n",
       "4      0.274833     -0.027848     -0.129527    -0.993852    -0.967445   \n",
       "\n",
       "   tAcc-STD-Z6  tAcc-mad-X7  tAcc-mad-Y8  tAcc-mad-Z9  tAcc-max-X10  \\\n",
       "0    -0.667683    -0.952501    -0.925249    -0.674302     -0.894088   \n",
       "1    -0.944958    -0.986799    -0.968401    -0.945823     -0.894088   \n",
       "2    -0.962748    -0.994403    -0.970735    -0.963483     -0.939260   \n",
       "3    -0.967091    -0.995274    -0.974471    -0.968897     -0.938610   \n",
       "4    -0.978295    -0.994111    -0.965953    -0.977346     -0.938610   \n",
       "\n",
       "           ...            fGyroJerk-max545  fGyroJerk-min546  \\\n",
       "0          ...                   -0.917883         -0.909829   \n",
       "1          ...                   -0.949922         -0.986902   \n",
       "2          ...                   -0.986857         -0.989609   \n",
       "3          ...                   -0.988566         -0.992021   \n",
       "4          ...                   -0.992653         -0.992505   \n",
       "\n",
       "   fGyroJerk-sma547  fGyroJerk-energy548  fGyroJerk-iqr549  \\\n",
       "0         -0.890165            -0.994105         -0.898022   \n",
       "1         -0.951977            -0.998272         -0.951255   \n",
       "2         -0.985689            -0.999831         -0.986148   \n",
       "3         -0.985562            -0.999850         -0.984015   \n",
       "4         -0.990498            -0.999925         -0.986376   \n",
       "\n",
       "   fGyroJerk-entropy550  fGyroJerk-maxInds551  fGyroJerk-MeanFreq552  \\\n",
       "0             -0.234815             -1.000000               0.071645   \n",
       "1             -0.431053             -1.000000              -0.401189   \n",
       "2             -0.809976             -0.936508               0.062891   \n",
       "3             -0.849081             -0.936508               0.116695   \n",
       "4             -0.895847             -0.936508              -0.121711   \n",
       "\n",
       "   fGyroJerk-skewness553  fGyroJerk-kurtosis554  \n",
       "0              -0.330370              -0.705974  \n",
       "1              -0.121845              -0.594944  \n",
       "2              -0.190422              -0.640736  \n",
       "3              -0.344418              -0.736124  \n",
       "4              -0.534685              -0.846595  \n",
       "\n",
       "[5 rows x 428 columns]"
      ]
     },
     "execution_count": 15,
     "metadata": {},
     "output_type": "execute_result"
    }
   ],
   "source": [
    "df.head()\n"
   ]
  },
  {
   "cell_type": "code",
   "execution_count": 20,
   "metadata": {
    "collapsed": false
   },
   "outputs": [],
   "source": [
    "with open(r'C:\\Users\\bob071988\\thinkful\\ds-new\\UCI\\test\\y_test.txt','r+') as cat_file:\n",
    "    cat_list = []\n",
    "    for line in cat_file: # one line is one column\n",
    "        line = line.strip()\n",
    "        if '1' in line:\n",
    "            activity = 'WALKING'\n",
    "        elif '2' in line:\n",
    "            activity  = 'WALKING_UPSTAIRS'\n",
    "        elif '3' in line:\n",
    "            activity  = 'WALKING_DOWNSTAIRS'\n",
    "        elif '4' in line:\n",
    "            activity  = 'SITTING'\n",
    "        elif '5' in line:\n",
    "            activity  = 'STANDING'\n",
    "        elif '6' in line:\n",
    "            activity  = 'LAYING' \n",
    "        else:\n",
    "            print(\"error here\")\n",
    "            \n",
    "        cat_list.append(activity)\n",
    "    #print(cat_list)\n",
    "    \n",
    "df['activity'] = cat_list # actual activity"
   ]
  },
  {
   "cell_type": "code",
   "execution_count": 52,
   "metadata": {
    "collapsed": false
   },
   "outputs": [],
   "source": [
    "with open(r'C:\\Users\\bob071988\\thinkful\\ds-new\\UCI\\new_labels.txt','r+') as new_label_file:\n",
    "    label_list = []\n",
    "    for line in new_label_file: # one line is one column\n",
    "        line = line.strip()\n",
    "        label_list.append(line)\n",
    "        #print(cat_list)\n",
    "    \n",
    "# df['label'] = label_list # computed from just the 5 values\n",
    "labels = pd.Series(label_list, index = ['1','2','3','4','5','6'])\n",
    "    "
   ]
  },
  {
   "cell_type": "code",
   "execution_count": 49,
   "metadata": {
    "collapsed": true
   },
   "outputs": [],
   "source": [
    "# get unique list of activities\n",
    "with open(r'C:\\Users\\bob071988\\thinkful\\ds-new\\UCI\\test\\y_test.txt','r+') as cat_file:\n",
    "    num_list = []\n",
    "    for line in cat_file: # one line is one column\n",
    "        line = line.strip()\n",
    "        num_list.append(line)\n",
    "        #print(cat_list)\n",
    "    \n",
    "df['act_num'] = num_list # numerical representation of activity"
   ]
  },
  {
   "cell_type": "code",
   "execution_count": 21,
   "metadata": {
    "collapsed": false
   },
   "outputs": [
    {
     "data": {
      "text/html": [
       "<div>\n",
       "<table border=\"1\" class=\"dataframe\">\n",
       "  <thead>\n",
       "    <tr style=\"text-align: right;\">\n",
       "      <th></th>\n",
       "      <th>tAcc-Mean-X1</th>\n",
       "      <th>tAcc-Mean-Y2</th>\n",
       "      <th>tAcc-Mean-Z3</th>\n",
       "      <th>tAcc-STD-X4</th>\n",
       "      <th>tAcc-STD-Y5</th>\n",
       "      <th>tAcc-STD-Z6</th>\n",
       "      <th>tAcc-mad-X7</th>\n",
       "      <th>tAcc-mad-Y8</th>\n",
       "      <th>tAcc-mad-Z9</th>\n",
       "      <th>tAcc-max-X10</th>\n",
       "      <th>...</th>\n",
       "      <th>fGyroJerk-min546</th>\n",
       "      <th>fGyroJerk-sma547</th>\n",
       "      <th>fGyroJerk-energy548</th>\n",
       "      <th>fGyroJerk-iqr549</th>\n",
       "      <th>fGyroJerk-entropy550</th>\n",
       "      <th>fGyroJerk-maxInds551</th>\n",
       "      <th>fGyroJerk-MeanFreq552</th>\n",
       "      <th>fGyroJerk-skewness553</th>\n",
       "      <th>fGyroJerk-kurtosis554</th>\n",
       "      <th>activity</th>\n",
       "    </tr>\n",
       "  </thead>\n",
       "  <tbody>\n",
       "    <tr>\n",
       "      <th>0</th>\n",
       "      <td>0.257178</td>\n",
       "      <td>-0.023285</td>\n",
       "      <td>-0.014654</td>\n",
       "      <td>-0.938404</td>\n",
       "      <td>-0.920091</td>\n",
       "      <td>-0.667683</td>\n",
       "      <td>-0.952501</td>\n",
       "      <td>-0.925249</td>\n",
       "      <td>-0.674302</td>\n",
       "      <td>-0.894088</td>\n",
       "      <td>...</td>\n",
       "      <td>-0.909829</td>\n",
       "      <td>-0.890165</td>\n",
       "      <td>-0.994105</td>\n",
       "      <td>-0.898022</td>\n",
       "      <td>-0.234815</td>\n",
       "      <td>-1.000000</td>\n",
       "      <td>0.071645</td>\n",
       "      <td>-0.330370</td>\n",
       "      <td>-0.705974</td>\n",
       "      <td>STANDING</td>\n",
       "    </tr>\n",
       "    <tr>\n",
       "      <th>1</th>\n",
       "      <td>0.286027</td>\n",
       "      <td>-0.013163</td>\n",
       "      <td>-0.119083</td>\n",
       "      <td>-0.975415</td>\n",
       "      <td>-0.967458</td>\n",
       "      <td>-0.944958</td>\n",
       "      <td>-0.986799</td>\n",
       "      <td>-0.968401</td>\n",
       "      <td>-0.945823</td>\n",
       "      <td>-0.894088</td>\n",
       "      <td>...</td>\n",
       "      <td>-0.986902</td>\n",
       "      <td>-0.951977</td>\n",
       "      <td>-0.998272</td>\n",
       "      <td>-0.951255</td>\n",
       "      <td>-0.431053</td>\n",
       "      <td>-1.000000</td>\n",
       "      <td>-0.401189</td>\n",
       "      <td>-0.121845</td>\n",
       "      <td>-0.594944</td>\n",
       "      <td>STANDING</td>\n",
       "    </tr>\n",
       "    <tr>\n",
       "      <th>2</th>\n",
       "      <td>0.275485</td>\n",
       "      <td>-0.026050</td>\n",
       "      <td>-0.118152</td>\n",
       "      <td>-0.993819</td>\n",
       "      <td>-0.969926</td>\n",
       "      <td>-0.962748</td>\n",
       "      <td>-0.994403</td>\n",
       "      <td>-0.970735</td>\n",
       "      <td>-0.963483</td>\n",
       "      <td>-0.939260</td>\n",
       "      <td>...</td>\n",
       "      <td>-0.989609</td>\n",
       "      <td>-0.985689</td>\n",
       "      <td>-0.999831</td>\n",
       "      <td>-0.986148</td>\n",
       "      <td>-0.809976</td>\n",
       "      <td>-0.936508</td>\n",
       "      <td>0.062891</td>\n",
       "      <td>-0.190422</td>\n",
       "      <td>-0.640736</td>\n",
       "      <td>STANDING</td>\n",
       "    </tr>\n",
       "    <tr>\n",
       "      <th>3</th>\n",
       "      <td>0.270298</td>\n",
       "      <td>-0.032614</td>\n",
       "      <td>-0.117520</td>\n",
       "      <td>-0.994743</td>\n",
       "      <td>-0.973268</td>\n",
       "      <td>-0.967091</td>\n",
       "      <td>-0.995274</td>\n",
       "      <td>-0.974471</td>\n",
       "      <td>-0.968897</td>\n",
       "      <td>-0.938610</td>\n",
       "      <td>...</td>\n",
       "      <td>-0.992021</td>\n",
       "      <td>-0.985562</td>\n",
       "      <td>-0.999850</td>\n",
       "      <td>-0.984015</td>\n",
       "      <td>-0.849081</td>\n",
       "      <td>-0.936508</td>\n",
       "      <td>0.116695</td>\n",
       "      <td>-0.344418</td>\n",
       "      <td>-0.736124</td>\n",
       "      <td>STANDING</td>\n",
       "    </tr>\n",
       "    <tr>\n",
       "      <th>4</th>\n",
       "      <td>0.274833</td>\n",
       "      <td>-0.027848</td>\n",
       "      <td>-0.129527</td>\n",
       "      <td>-0.993852</td>\n",
       "      <td>-0.967445</td>\n",
       "      <td>-0.978295</td>\n",
       "      <td>-0.994111</td>\n",
       "      <td>-0.965953</td>\n",
       "      <td>-0.977346</td>\n",
       "      <td>-0.938610</td>\n",
       "      <td>...</td>\n",
       "      <td>-0.992505</td>\n",
       "      <td>-0.990498</td>\n",
       "      <td>-0.999925</td>\n",
       "      <td>-0.986376</td>\n",
       "      <td>-0.895847</td>\n",
       "      <td>-0.936508</td>\n",
       "      <td>-0.121711</td>\n",
       "      <td>-0.534685</td>\n",
       "      <td>-0.846595</td>\n",
       "      <td>STANDING</td>\n",
       "    </tr>\n",
       "  </tbody>\n",
       "</table>\n",
       "<p>5 rows × 429 columns</p>\n",
       "</div>"
      ],
      "text/plain": [
       "   tAcc-Mean-X1  tAcc-Mean-Y2  tAcc-Mean-Z3  tAcc-STD-X4  tAcc-STD-Y5  \\\n",
       "0      0.257178     -0.023285     -0.014654    -0.938404    -0.920091   \n",
       "1      0.286027     -0.013163     -0.119083    -0.975415    -0.967458   \n",
       "2      0.275485     -0.026050     -0.118152    -0.993819    -0.969926   \n",
       "3      0.270298     -0.032614     -0.117520    -0.994743    -0.973268   \n",
       "4      0.274833     -0.027848     -0.129527    -0.993852    -0.967445   \n",
       "\n",
       "   tAcc-STD-Z6  tAcc-mad-X7  tAcc-mad-Y8  tAcc-mad-Z9  tAcc-max-X10    ...     \\\n",
       "0    -0.667683    -0.952501    -0.925249    -0.674302     -0.894088    ...      \n",
       "1    -0.944958    -0.986799    -0.968401    -0.945823     -0.894088    ...      \n",
       "2    -0.962748    -0.994403    -0.970735    -0.963483     -0.939260    ...      \n",
       "3    -0.967091    -0.995274    -0.974471    -0.968897     -0.938610    ...      \n",
       "4    -0.978295    -0.994111    -0.965953    -0.977346     -0.938610    ...      \n",
       "\n",
       "   fGyroJerk-min546  fGyroJerk-sma547  fGyroJerk-energy548  fGyroJerk-iqr549  \\\n",
       "0         -0.909829         -0.890165            -0.994105         -0.898022   \n",
       "1         -0.986902         -0.951977            -0.998272         -0.951255   \n",
       "2         -0.989609         -0.985689            -0.999831         -0.986148   \n",
       "3         -0.992021         -0.985562            -0.999850         -0.984015   \n",
       "4         -0.992505         -0.990498            -0.999925         -0.986376   \n",
       "\n",
       "   fGyroJerk-entropy550  fGyroJerk-maxInds551  fGyroJerk-MeanFreq552  \\\n",
       "0             -0.234815             -1.000000               0.071645   \n",
       "1             -0.431053             -1.000000              -0.401189   \n",
       "2             -0.809976             -0.936508               0.062891   \n",
       "3             -0.849081             -0.936508               0.116695   \n",
       "4             -0.895847             -0.936508              -0.121711   \n",
       "\n",
       "   fGyroJerk-skewness553  fGyroJerk-kurtosis554  activity  \n",
       "0              -0.330370              -0.705974  STANDING  \n",
       "1              -0.121845              -0.594944  STANDING  \n",
       "2              -0.190422              -0.640736  STANDING  \n",
       "3              -0.344418              -0.736124  STANDING  \n",
       "4              -0.534685              -0.846595  STANDING  \n",
       "\n",
       "[5 rows x 429 columns]"
      ]
     },
     "execution_count": 21,
     "metadata": {},
     "output_type": "execute_result"
    }
   ],
   "source": [
    "df.head()\n"
   ]
  },
  {
   "cell_type": "code",
   "execution_count": 22,
   "metadata": {
    "collapsed": false
   },
   "outputs": [
    {
     "data": {
      "text/plain": [
       "<matplotlib.axes._subplots.AxesSubplot at 0x9c17080>"
      ]
     },
     "execution_count": 22,
     "metadata": {},
     "output_type": "execute_result"
    },
    {
     "data": {
      "image/png": "[encoded data removed]",
      "text/plain": [
       "<matplotlib.figure.Figure at 0xa3e8c88>"
      ]
     },
     "metadata": {},
     "output_type": "display_data"
    }
   ],
   "source": [
    "df['tAcc-Mean-X1'].hist()\n",
    "# tBodyAcc-mean()"
   ]
  },
  {
   "cell_type": "code",
   "execution_count": 23,
   "metadata": {
    "collapsed": false
   },
   "outputs": [
    {
     "data": {
      "text/plain": [
       "<matplotlib.axes._subplots.AxesSubplot at 0xa3e8048>"
      ]
     },
     "execution_count": 23,
     "metadata": {},
     "output_type": "execute_result"
    },
    {
     "data": {
      "image/png": "[encoded data removed]",
      "text/plain": [
       "<matplotlib.figure.Figure at 0x9d2c2b0>"
      ]
     },
     "metadata": {},
     "output_type": "display_data"
    }
   ],
   "source": [
    "filter = df['activity'] == 'WALKING'\n",
    "newdf = df[filter]\n",
    "newdf['tAcc-Mean-X1'].hist()"
   ]
  },
  {
   "cell_type": "code",
   "execution_count": 24,
   "metadata": {
    "collapsed": false
   },
   "outputs": [
    {
     "data": {
      "text/plain": [
       "<matplotlib.axes._subplots.AxesSubplot at 0x9ce9d30>"
      ]
     },
     "execution_count": 24,
     "metadata": {},
     "output_type": "execute_result"
    },
    {
     "data": {
      "image/png": "[encoded data removed]",
      "text/plain": [
       "<matplotlib.figure.Figure at 0x9a31b00>"
      ]
     },
     "metadata": {},
     "output_type": "display_data"
    }
   ],
   "source": [
    "Rfilter = df['activity'] == 'WALKING_UPSTAIRS'\n",
    "Rnewdf = df[Rfilter]\n",
    "Rnewdf['tAcc-Mean-X1'].hist()"
   ]
  },
  {
   "cell_type": "code",
   "execution_count": 25,
   "metadata": {
    "collapsed": false
   },
   "outputs": [
    {
     "data": {
      "text/plain": [
       "<matplotlib.axes._subplots.AxesSubplot at 0xa0a6438>"
      ]
     },
     "execution_count": 25,
     "metadata": {},
     "output_type": "execute_result"
    },
    {
     "data": {
      "image/png": "[encoded data removed]",
      "text/plain": [
       "<matplotlib.figure.Figure at 0x9dc1828>"
      ]
     },
     "metadata": {},
     "output_type": "display_data"
    }
   ],
   "source": [
    "Lfilter = df['activity'] == 'LAYING'\n",
    "Lnewdf = df[Lfilter]\n",
    "Lnewdf['tAcc-Mean-X1'].hist()"
   ]
  },
  {
   "cell_type": "code",
   "execution_count": 26,
   "metadata": {
    "collapsed": false
   },
   "outputs": [
    {
     "data": {
      "text/plain": [
       "'C:\\\\Users\\\\bob071988\\\\thinkful\\\\ds-new\\\\UCI'"
      ]
     },
     "execution_count": 26,
     "metadata": {},
     "output_type": "execute_result"
    }
   ],
   "source": [
    "import os\n",
    "os.getcwd()"
   ]
  },
  {
   "cell_type": "code",
   "execution_count": null,
   "metadata": {
    "collapsed": true
   },
   "outputs": [],
   "source": []
  },
  {
   "cell_type": "code",
   "execution_count": null,
   "metadata": {
    "collapsed": true
   },
   "outputs": [],
   "source": [
    "# from sklearn.ensemble import RandomForestClassifier\n",
    "# import pandas as pd\n",
    "# import numpy as np\n",
    "\n",
    "# iris = load_iris()\n",
    "# df = pd.DataFrame(iris.data, columns=iris.feature_names)\n",
    "# df['is_train'] = np.random.uniform(0, 1, len(df)) <= .75\n",
    "# df['species'] = pd.Categorical.from_codes(iris.target, iris.target_names)\n",
    "# df.head()\n",
    "\n",
    "# train, test = df[df['is_train']==True], df[df['is_train']==False]\n",
    "\n",
    "# features = df.columns[:4]\n",
    "# clf = RandomForestClassifier(n_jobs=2)\n",
    "# y, _ = pd.factorize(train['species'])\n",
    "# clf.fit(train[features], y)\n",
    "\n",
    "# preds = iris.target_names[clf.predict(test[features])]\n",
    "# pd.crosstab(test['species'], preds, rownames=['actual'], colnames=['preds'])"
   ]
  },
  {
   "cell_type": "code",
   "execution_count": 32,
   "metadata": {
    "collapsed": true
   },
   "outputs": [],
   "source": [
    "# from sklearn.datasets import load_iris\n",
    "from sklearn.ensemble import RandomForestClassifier\n",
    "# import pandas as pd\n",
    "# import numpy as np"
   ]
  },
  {
   "cell_type": "code",
   "execution_count": 63,
   "metadata": {
    "collapsed": false
   },
   "outputs": [
    {
     "ename": "ValueError",
     "evalue": "cannot reindex from a duplicate axis",
     "output_type": "error",
     "traceback": [
      "\u001b[1;31m---------------------------------------------------------------------------\u001b[0m",
      "\u001b[1;31mValueError\u001b[0m                                Traceback (most recent call last)",
      "\u001b[1;32m<ipython-input-63-3db6fc79aef8>\u001b[0m in \u001b[0;36m<module>\u001b[1;34m()\u001b[0m\n\u001b[0;32m     13\u001b[0m \u001b[0mpreds\u001b[0m \u001b[1;33m=\u001b[0m \u001b[0mlabels\u001b[0m\u001b[1;33m[\u001b[0m\u001b[0mclf\u001b[0m\u001b[1;33m.\u001b[0m\u001b[0mpredict\u001b[0m\u001b[1;33m(\u001b[0m\u001b[0mtest\u001b[0m\u001b[1;33m[\u001b[0m\u001b[0mfeatures\u001b[0m\u001b[1;33m]\u001b[0m\u001b[1;33m)\u001b[0m\u001b[1;33m]\u001b[0m\u001b[1;33m\u001b[0m\u001b[0m\n\u001b[0;32m     14\u001b[0m \u001b[1;33m\u001b[0m\u001b[0m\n\u001b[1;32m---> 15\u001b[1;33m \u001b[0mpd\u001b[0m\u001b[1;33m.\u001b[0m\u001b[0mcrosstab\u001b[0m\u001b[1;33m(\u001b[0m\u001b[0mtest\u001b[0m\u001b[1;33m[\u001b[0m\u001b[1;34m'activity'\u001b[0m\u001b[1;33m]\u001b[0m\u001b[1;33m,\u001b[0m \u001b[0mpreds\u001b[0m\u001b[1;33m,\u001b[0m \u001b[0mrownames\u001b[0m\u001b[1;33m=\u001b[0m\u001b[1;33m[\u001b[0m\u001b[1;34m'actual'\u001b[0m\u001b[1;33m]\u001b[0m\u001b[1;33m,\u001b[0m \u001b[0mcolnames\u001b[0m\u001b[1;33m=\u001b[0m\u001b[1;33m[\u001b[0m\u001b[1;34m'preds'\u001b[0m\u001b[1;33m]\u001b[0m\u001b[1;33m)\u001b[0m\u001b[1;33m\u001b[0m\u001b[0m\n\u001b[0m",
      "\u001b[1;32mC:\\Users\\bob071988\\Anaconda2\\lib\\site-packages\\pandas\\tools\\pivot.pyc\u001b[0m in \u001b[0;36mcrosstab\u001b[1;34m(index, columns, values, rownames, colnames, aggfunc, margins, dropna)\u001b[0m\n\u001b[0;32m    423\u001b[0m \u001b[1;33m\u001b[0m\u001b[0m\n\u001b[0;32m    424\u001b[0m     \u001b[1;32mif\u001b[0m \u001b[0mvalues\u001b[0m \u001b[1;32mis\u001b[0m \u001b[0mNone\u001b[0m\u001b[1;33m:\u001b[0m\u001b[1;33m\u001b[0m\u001b[0m\n\u001b[1;32m--> 425\u001b[1;33m         \u001b[0mdf\u001b[0m \u001b[1;33m=\u001b[0m \u001b[0mDataFrame\u001b[0m\u001b[1;33m(\u001b[0m\u001b[0mdata\u001b[0m\u001b[1;33m)\u001b[0m\u001b[1;33m\u001b[0m\u001b[0m\n\u001b[0m\u001b[0;32m    426\u001b[0m         \u001b[0mdf\u001b[0m\u001b[1;33m[\u001b[0m\u001b[1;34m'__dummy__'\u001b[0m\u001b[1;33m]\u001b[0m \u001b[1;33m=\u001b[0m \u001b[1;36m0\u001b[0m\u001b[1;33m\u001b[0m\u001b[0m\n\u001b[0;32m    427\u001b[0m         table = df.pivot_table('__dummy__', index=rownames, columns=colnames,\n",
      "\u001b[1;32mC:\\Users\\bob071988\\Anaconda2\\lib\\site-packages\\pandas\\core\\frame.pyc\u001b[0m in \u001b[0;36m__init__\u001b[1;34m(self, data, index, columns, dtype, copy)\u001b[0m\n\u001b[0;32m    224\u001b[0m                                  dtype=dtype, copy=copy)\n\u001b[0;32m    225\u001b[0m         \u001b[1;32melif\u001b[0m \u001b[0misinstance\u001b[0m\u001b[1;33m(\u001b[0m\u001b[0mdata\u001b[0m\u001b[1;33m,\u001b[0m \u001b[0mdict\u001b[0m\u001b[1;33m)\u001b[0m\u001b[1;33m:\u001b[0m\u001b[1;33m\u001b[0m\u001b[0m\n\u001b[1;32m--> 226\u001b[1;33m             \u001b[0mmgr\u001b[0m \u001b[1;33m=\u001b[0m \u001b[0mself\u001b[0m\u001b[1;33m.\u001b[0m\u001b[0m_init_dict\u001b[0m\u001b[1;33m(\u001b[0m\u001b[0mdata\u001b[0m\u001b[1;33m,\u001b[0m \u001b[0mindex\u001b[0m\u001b[1;33m,\u001b[0m \u001b[0mcolumns\u001b[0m\u001b[1;33m,\u001b[0m \u001b[0mdtype\u001b[0m\u001b[1;33m=\u001b[0m\u001b[0mdtype\u001b[0m\u001b[1;33m)\u001b[0m\u001b[1;33m\u001b[0m\u001b[0m\n\u001b[0m\u001b[0;32m    227\u001b[0m         \u001b[1;32melif\u001b[0m \u001b[0misinstance\u001b[0m\u001b[1;33m(\u001b[0m\u001b[0mdata\u001b[0m\u001b[1;33m,\u001b[0m \u001b[0mma\u001b[0m\u001b[1;33m.\u001b[0m\u001b[0mMaskedArray\u001b[0m\u001b[1;33m)\u001b[0m\u001b[1;33m:\u001b[0m\u001b[1;33m\u001b[0m\u001b[0m\n\u001b[0;32m    228\u001b[0m             \u001b[1;32mimport\u001b[0m \u001b[0mnumpy\u001b[0m\u001b[1;33m.\u001b[0m\u001b[0mma\u001b[0m\u001b[1;33m.\u001b[0m\u001b[0mmrecords\u001b[0m \u001b[1;32mas\u001b[0m \u001b[0mmrecords\u001b[0m\u001b[1;33m\u001b[0m\u001b[0m\n",
      "\u001b[1;32mC:\\Users\\bob071988\\Anaconda2\\lib\\site-packages\\pandas\\core\\frame.pyc\u001b[0m in \u001b[0;36m_init_dict\u001b[1;34m(self, data, index, columns, dtype)\u001b[0m\n\u001b[0;32m    361\u001b[0m \u001b[1;33m\u001b[0m\u001b[0m\n\u001b[0;32m    362\u001b[0m         return _arrays_to_mgr(arrays, data_names, index, columns,\n\u001b[1;32m--> 363\u001b[1;33m                               dtype=dtype)\n\u001b[0m\u001b[0;32m    364\u001b[0m \u001b[1;33m\u001b[0m\u001b[0m\n\u001b[0;32m    365\u001b[0m     def _init_ndarray(self, values, index, columns, dtype=None,\n",
      "\u001b[1;32mC:\\Users\\bob071988\\Anaconda2\\lib\\site-packages\\pandas\\core\\frame.pyc\u001b[0m in \u001b[0;36m_arrays_to_mgr\u001b[1;34m(arrays, arr_names, index, columns, dtype)\u001b[0m\n\u001b[0;32m   5161\u001b[0m \u001b[1;33m\u001b[0m\u001b[0m\n\u001b[0;32m   5162\u001b[0m     \u001b[1;31m# don't force copy because getting jammed in an ndarray anyway\u001b[0m\u001b[1;33m\u001b[0m\u001b[1;33m\u001b[0m\u001b[0m\n\u001b[1;32m-> 5163\u001b[1;33m     \u001b[0marrays\u001b[0m \u001b[1;33m=\u001b[0m \u001b[0m_homogenize\u001b[0m\u001b[1;33m(\u001b[0m\u001b[0marrays\u001b[0m\u001b[1;33m,\u001b[0m \u001b[0mindex\u001b[0m\u001b[1;33m,\u001b[0m \u001b[0mdtype\u001b[0m\u001b[1;33m)\u001b[0m\u001b[1;33m\u001b[0m\u001b[0m\n\u001b[0m\u001b[0;32m   5164\u001b[0m \u001b[1;33m\u001b[0m\u001b[0m\n\u001b[0;32m   5165\u001b[0m     \u001b[1;31m# from BlockManager perspective\u001b[0m\u001b[1;33m\u001b[0m\u001b[1;33m\u001b[0m\u001b[0m\n",
      "\u001b[1;32mC:\\Users\\bob071988\\Anaconda2\\lib\\site-packages\\pandas\\core\\frame.pyc\u001b[0m in \u001b[0;36m_homogenize\u001b[1;34m(data, index, dtype)\u001b[0m\n\u001b[0;32m   5463\u001b[0m                 \u001b[1;31m# Forces alignment. No need to copy data since we\u001b[0m\u001b[1;33m\u001b[0m\u001b[1;33m\u001b[0m\u001b[0m\n\u001b[0;32m   5464\u001b[0m                 \u001b[1;31m# are putting it into an ndarray later\u001b[0m\u001b[1;33m\u001b[0m\u001b[1;33m\u001b[0m\u001b[0m\n\u001b[1;32m-> 5465\u001b[1;33m                 \u001b[0mv\u001b[0m \u001b[1;33m=\u001b[0m \u001b[0mv\u001b[0m\u001b[1;33m.\u001b[0m\u001b[0mreindex\u001b[0m\u001b[1;33m(\u001b[0m\u001b[0mindex\u001b[0m\u001b[1;33m,\u001b[0m \u001b[0mcopy\u001b[0m\u001b[1;33m=\u001b[0m\u001b[0mFalse\u001b[0m\u001b[1;33m)\u001b[0m\u001b[1;33m\u001b[0m\u001b[0m\n\u001b[0m\u001b[0;32m   5466\u001b[0m         \u001b[1;32melse\u001b[0m\u001b[1;33m:\u001b[0m\u001b[1;33m\u001b[0m\u001b[0m\n\u001b[0;32m   5467\u001b[0m             \u001b[1;32mif\u001b[0m \u001b[0misinstance\u001b[0m\u001b[1;33m(\u001b[0m\u001b[0mv\u001b[0m\u001b[1;33m,\u001b[0m \u001b[0mdict\u001b[0m\u001b[1;33m)\u001b[0m\u001b[1;33m:\u001b[0m\u001b[1;33m\u001b[0m\u001b[0m\n",
      "\u001b[1;32mC:\\Users\\bob071988\\Anaconda2\\lib\\site-packages\\pandas\\core\\series.pyc\u001b[0m in \u001b[0;36mreindex\u001b[1;34m(self, index, **kwargs)\u001b[0m\n\u001b[0;32m   2266\u001b[0m     \u001b[1;33m@\u001b[0m\u001b[0mAppender\u001b[0m\u001b[1;33m(\u001b[0m\u001b[0mgeneric\u001b[0m\u001b[1;33m.\u001b[0m\u001b[0m_shared_docs\u001b[0m\u001b[1;33m[\u001b[0m\u001b[1;34m'reindex'\u001b[0m\u001b[1;33m]\u001b[0m \u001b[1;33m%\u001b[0m \u001b[0m_shared_doc_kwargs\u001b[0m\u001b[1;33m)\u001b[0m\u001b[1;33m\u001b[0m\u001b[0m\n\u001b[0;32m   2267\u001b[0m     \u001b[1;32mdef\u001b[0m \u001b[0mreindex\u001b[0m\u001b[1;33m(\u001b[0m\u001b[0mself\u001b[0m\u001b[1;33m,\u001b[0m \u001b[0mindex\u001b[0m\u001b[1;33m=\u001b[0m\u001b[0mNone\u001b[0m\u001b[1;33m,\u001b[0m \u001b[1;33m**\u001b[0m\u001b[0mkwargs\u001b[0m\u001b[1;33m)\u001b[0m\u001b[1;33m:\u001b[0m\u001b[1;33m\u001b[0m\u001b[0m\n\u001b[1;32m-> 2268\u001b[1;33m         \u001b[1;32mreturn\u001b[0m \u001b[0msuper\u001b[0m\u001b[1;33m(\u001b[0m\u001b[0mSeries\u001b[0m\u001b[1;33m,\u001b[0m \u001b[0mself\u001b[0m\u001b[1;33m)\u001b[0m\u001b[1;33m.\u001b[0m\u001b[0mreindex\u001b[0m\u001b[1;33m(\u001b[0m\u001b[0mindex\u001b[0m\u001b[1;33m=\u001b[0m\u001b[0mindex\u001b[0m\u001b[1;33m,\u001b[0m \u001b[1;33m**\u001b[0m\u001b[0mkwargs\u001b[0m\u001b[1;33m)\u001b[0m\u001b[1;33m\u001b[0m\u001b[0m\n\u001b[0m\u001b[0;32m   2269\u001b[0m \u001b[1;33m\u001b[0m\u001b[0m\n\u001b[0;32m   2270\u001b[0m     \u001b[1;33m@\u001b[0m\u001b[0mAppender\u001b[0m\u001b[1;33m(\u001b[0m\u001b[0mgeneric\u001b[0m\u001b[1;33m.\u001b[0m\u001b[0m_shared_docs\u001b[0m\u001b[1;33m[\u001b[0m\u001b[1;34m'fillna'\u001b[0m\u001b[1;33m]\u001b[0m \u001b[1;33m%\u001b[0m \u001b[0m_shared_doc_kwargs\u001b[0m\u001b[1;33m)\u001b[0m\u001b[1;33m\u001b[0m\u001b[0m\n",
      "\u001b[1;32mC:\\Users\\bob071988\\Anaconda2\\lib\\site-packages\\pandas\\core\\generic.pyc\u001b[0m in \u001b[0;36mreindex\u001b[1;34m(self, *args, **kwargs)\u001b[0m\n\u001b[0;32m   1960\u001b[0m         \u001b[1;31m# perform the reindex on the axes\u001b[0m\u001b[1;33m\u001b[0m\u001b[1;33m\u001b[0m\u001b[0m\n\u001b[0;32m   1961\u001b[0m         return self._reindex_axes(axes, level, limit, tolerance,\n\u001b[1;32m-> 1962\u001b[1;33m                                   method, fill_value, copy).__finalize__(self)\n\u001b[0m\u001b[0;32m   1963\u001b[0m \u001b[1;33m\u001b[0m\u001b[0m\n\u001b[0;32m   1964\u001b[0m     def _reindex_axes(self, axes, level, limit, tolerance, method,\n",
      "\u001b[1;32mC:\\Users\\bob071988\\Anaconda2\\lib\\site-packages\\pandas\\core\\generic.pyc\u001b[0m in \u001b[0;36m_reindex_axes\u001b[1;34m(self, axes, level, limit, tolerance, method, fill_value, copy)\u001b[0m\n\u001b[0;32m   1979\u001b[0m             obj = obj._reindex_with_indexers(\n\u001b[0;32m   1980\u001b[0m                 \u001b[1;33m{\u001b[0m\u001b[0maxis\u001b[0m\u001b[1;33m:\u001b[0m \u001b[1;33m[\u001b[0m\u001b[0mnew_index\u001b[0m\u001b[1;33m,\u001b[0m \u001b[0mindexer\u001b[0m\u001b[1;33m]\u001b[0m\u001b[1;33m}\u001b[0m\u001b[1;33m,\u001b[0m\u001b[1;33m\u001b[0m\u001b[0m\n\u001b[1;32m-> 1981\u001b[1;33m                 fill_value=fill_value, copy=copy, allow_dups=False)\n\u001b[0m\u001b[0;32m   1982\u001b[0m \u001b[1;33m\u001b[0m\u001b[0m\n\u001b[0;32m   1983\u001b[0m         \u001b[1;32mreturn\u001b[0m \u001b[0mobj\u001b[0m\u001b[1;33m\u001b[0m\u001b[0m\n",
      "\u001b[1;32mC:\\Users\\bob071988\\Anaconda2\\lib\\site-packages\\pandas\\core\\generic.pyc\u001b[0m in \u001b[0;36m_reindex_with_indexers\u001b[1;34m(self, reindexers, fill_value, copy, allow_dups)\u001b[0m\n\u001b[0;32m   2071\u001b[0m                                                 \u001b[0mfill_value\u001b[0m\u001b[1;33m=\u001b[0m\u001b[0mfill_value\u001b[0m\u001b[1;33m,\u001b[0m\u001b[1;33m\u001b[0m\u001b[0m\n\u001b[0;32m   2072\u001b[0m                                                 \u001b[0mallow_dups\u001b[0m\u001b[1;33m=\u001b[0m\u001b[0mallow_dups\u001b[0m\u001b[1;33m,\u001b[0m\u001b[1;33m\u001b[0m\u001b[0m\n\u001b[1;32m-> 2073\u001b[1;33m                                                 copy=copy)\n\u001b[0m\u001b[0;32m   2074\u001b[0m \u001b[1;33m\u001b[0m\u001b[0m\n\u001b[0;32m   2075\u001b[0m         \u001b[1;32mif\u001b[0m \u001b[0mcopy\u001b[0m \u001b[1;32mand\u001b[0m \u001b[0mnew_data\u001b[0m \u001b[1;32mis\u001b[0m \u001b[0mself\u001b[0m\u001b[1;33m.\u001b[0m\u001b[0m_data\u001b[0m\u001b[1;33m:\u001b[0m\u001b[1;33m\u001b[0m\u001b[0m\n",
      "\u001b[1;32mC:\\Users\\bob071988\\Anaconda2\\lib\\site-packages\\pandas\\core\\internals.pyc\u001b[0m in \u001b[0;36mreindex_indexer\u001b[1;34m(self, new_axis, indexer, axis, fill_value, allow_dups, copy)\u001b[0m\n\u001b[0;32m   3501\u001b[0m         \u001b[1;31m# some axes don't allow reindexing with dups\u001b[0m\u001b[1;33m\u001b[0m\u001b[1;33m\u001b[0m\u001b[0m\n\u001b[0;32m   3502\u001b[0m         \u001b[1;32mif\u001b[0m \u001b[1;32mnot\u001b[0m \u001b[0mallow_dups\u001b[0m\u001b[1;33m:\u001b[0m\u001b[1;33m\u001b[0m\u001b[0m\n\u001b[1;32m-> 3503\u001b[1;33m             \u001b[0mself\u001b[0m\u001b[1;33m.\u001b[0m\u001b[0maxes\u001b[0m\u001b[1;33m[\u001b[0m\u001b[0maxis\u001b[0m\u001b[1;33m]\u001b[0m\u001b[1;33m.\u001b[0m\u001b[0m_can_reindex\u001b[0m\u001b[1;33m(\u001b[0m\u001b[0mindexer\u001b[0m\u001b[1;33m)\u001b[0m\u001b[1;33m\u001b[0m\u001b[0m\n\u001b[0m\u001b[0;32m   3504\u001b[0m \u001b[1;33m\u001b[0m\u001b[0m\n\u001b[0;32m   3505\u001b[0m         \u001b[1;32mif\u001b[0m \u001b[0maxis\u001b[0m \u001b[1;33m>=\u001b[0m \u001b[0mself\u001b[0m\u001b[1;33m.\u001b[0m\u001b[0mndim\u001b[0m\u001b[1;33m:\u001b[0m\u001b[1;33m\u001b[0m\u001b[0m\n",
      "\u001b[1;32mC:\\Users\\bob071988\\Anaconda2\\lib\\site-packages\\pandas\\core\\index.pyc\u001b[0m in \u001b[0;36m_can_reindex\u001b[1;34m(self, indexer)\u001b[0m\n\u001b[0;32m   2084\u001b[0m         \u001b[1;31m# trying to reindex on an axis with duplicates\u001b[0m\u001b[1;33m\u001b[0m\u001b[1;33m\u001b[0m\u001b[0m\n\u001b[0;32m   2085\u001b[0m         \u001b[1;32mif\u001b[0m \u001b[1;32mnot\u001b[0m \u001b[0mself\u001b[0m\u001b[1;33m.\u001b[0m\u001b[0mis_unique\u001b[0m \u001b[1;32mand\u001b[0m \u001b[0mlen\u001b[0m\u001b[1;33m(\u001b[0m\u001b[0mindexer\u001b[0m\u001b[1;33m)\u001b[0m\u001b[1;33m:\u001b[0m\u001b[1;33m\u001b[0m\u001b[0m\n\u001b[1;32m-> 2086\u001b[1;33m             \u001b[1;32mraise\u001b[0m \u001b[0mValueError\u001b[0m\u001b[1;33m(\u001b[0m\u001b[1;34m\"cannot reindex from a duplicate axis\"\u001b[0m\u001b[1;33m)\u001b[0m\u001b[1;33m\u001b[0m\u001b[0m\n\u001b[0m\u001b[0;32m   2087\u001b[0m \u001b[1;33m\u001b[0m\u001b[0m\n\u001b[0;32m   2088\u001b[0m     def reindex(self, target, method=None, level=None, limit=None,\n",
      "\u001b[1;31mValueError\u001b[0m: cannot reindex from a duplicate axis"
     ]
    }
   ],
   "source": [
    "# df['is_train'] = np.random.uniform(0, 1, len(df)) <= .75\n",
    "df['is_train'] = np.random.uniform(0, 1, len(df)) <= .75\n",
    "# df['species'] = pd.Factor(iris.target, iris.target_names)\n",
    "# df['act2'] = pd.Categorical.from_codes(df.act_num, labels)\n",
    "\n",
    "train, test = df[df['is_train']==True], df[df['is_train']==False]\n",
    "features = df.columns[:4]\n",
    "clf = RandomForestClassifier(n_jobs=2)\n",
    "y, _ = pd.factorize(train['activity'])\n",
    "clf.fit(train[features], y)\n",
    "\n",
    "# preds = iris.target_names[clf.predict(test[features])\n",
    "preds = labels[clf.predict(test[features])]\n",
    "\n",
    "pd.crosstab(test['activity'], preds, rownames=['actual'], colnames=['preds'])"
   ]
  },
  {
   "cell_type": "code",
   "execution_count": 66,
   "metadata": {
    "collapsed": false
   },
   "outputs": [
    {
     "name": "stdout",
     "output_type": "stream",
     "text": [
      "len preds 737 len activity 737\n"
     ]
    }
   ],
   "source": [
    "print(\"len preds {} len activity {}\".format(len(preds),len(test)) )"
   ]
  },
  {
   "cell_type": "code",
   "execution_count": 64,
   "metadata": {
    "collapsed": false
   },
   "outputs": [
    {
     "data": {
      "text/plain": [
       "3    WALKING_DOWNSTAIRS\n",
       "1               WALKING\n",
       "3    WALKING_DOWNSTAIRS\n",
       "1               WALKING\n",
       "1               WALKING\n",
       "2      WALKING_UPSTAIRS\n",
       "1               WALKING\n",
       "2      WALKING_UPSTAIRS\n",
       "2      WALKING_UPSTAIRS\n",
       "1               WALKING\n",
       "2      WALKING_UPSTAIRS\n",
       "1               WALKING\n",
       "2      WALKING_UPSTAIRS\n",
       "3    WALKING_DOWNSTAIRS\n",
       "3    WALKING_DOWNSTAIRS\n",
       "3    WALKING_DOWNSTAIRS\n",
       "3    WALKING_DOWNSTAIRS\n",
       "3    WALKING_DOWNSTAIRS\n",
       "3    WALKING_DOWNSTAIRS\n",
       "3    WALKING_DOWNSTAIRS\n",
       "4               SITTING\n",
       "6                LAYING\n",
       "4               SITTING\n",
       "4               SITTING\n",
       "6                LAYING\n",
       "4               SITTING\n",
       "4               SITTING\n",
       "4               SITTING\n",
       "4               SITTING\n",
       "4               SITTING\n",
       "            ...        \n",
       "3    WALKING_DOWNSTAIRS\n",
       "3    WALKING_DOWNSTAIRS\n",
       "3    WALKING_DOWNSTAIRS\n",
       "3    WALKING_DOWNSTAIRS\n",
       "3    WALKING_DOWNSTAIRS\n",
       "3    WALKING_DOWNSTAIRS\n",
       "3    WALKING_DOWNSTAIRS\n",
       "3    WALKING_DOWNSTAIRS\n",
       "4               SITTING\n",
       "4               SITTING\n",
       "6                LAYING\n",
       "4               SITTING\n",
       "5              STANDING\n",
       "4               SITTING\n",
       "4               SITTING\n",
       "4               SITTING\n",
       "4               SITTING\n",
       "5              STANDING\n",
       "4               SITTING\n",
       "5              STANDING\n",
       "4               SITTING\n",
       "5              STANDING\n",
       "5              STANDING\n",
       "4               SITTING\n",
       "6                LAYING\n",
       "6                LAYING\n",
       "5              STANDING\n",
       "4               SITTING\n",
       "6                LAYING\n",
       "6                LAYING\n",
       "dtype: object"
      ]
     },
     "execution_count": 64,
     "metadata": {},
     "output_type": "execute_result"
    }
   ],
   "source": [
    "preds"
   ]
  },
  {
   "cell_type": "code",
   "execution_count": 61,
   "metadata": {
    "collapsed": false
   },
   "outputs": [
    {
     "data": {
      "text/html": [
       "<div>\n",
       "<table border=\"1\" class=\"dataframe\">\n",
       "  <thead>\n",
       "    <tr style=\"text-align: right;\">\n",
       "      <th></th>\n",
       "      <th>tAcc-Mean-X1</th>\n",
       "      <th>tAcc-Mean-Y2</th>\n",
       "      <th>tAcc-Mean-Z3</th>\n",
       "      <th>tAcc-STD-X4</th>\n",
       "      <th>tAcc-STD-Y5</th>\n",
       "      <th>tAcc-STD-Z6</th>\n",
       "      <th>tAcc-mad-X7</th>\n",
       "      <th>tAcc-mad-Y8</th>\n",
       "      <th>tAcc-mad-Z9</th>\n",
       "      <th>tAcc-max-X10</th>\n",
       "      <th>...</th>\n",
       "      <th>fGyroJerk-energy548</th>\n",
       "      <th>fGyroJerk-iqr549</th>\n",
       "      <th>fGyroJerk-entropy550</th>\n",
       "      <th>fGyroJerk-maxInds551</th>\n",
       "      <th>fGyroJerk-MeanFreq552</th>\n",
       "      <th>fGyroJerk-skewness553</th>\n",
       "      <th>fGyroJerk-kurtosis554</th>\n",
       "      <th>activity</th>\n",
       "      <th>is_train</th>\n",
       "      <th>act_num</th>\n",
       "    </tr>\n",
       "  </thead>\n",
       "  <tbody>\n",
       "    <tr>\n",
       "      <th>4</th>\n",
       "      <td>0.274833</td>\n",
       "      <td>-0.027848</td>\n",
       "      <td>-0.129527</td>\n",
       "      <td>-0.993852</td>\n",
       "      <td>-0.967445</td>\n",
       "      <td>-0.978295</td>\n",
       "      <td>-0.994111</td>\n",
       "      <td>-0.965953</td>\n",
       "      <td>-0.977346</td>\n",
       "      <td>-0.938610</td>\n",
       "      <td>...</td>\n",
       "      <td>-0.999925</td>\n",
       "      <td>-0.986376</td>\n",
       "      <td>-0.895847</td>\n",
       "      <td>-0.936508</td>\n",
       "      <td>-0.121711</td>\n",
       "      <td>-0.534685</td>\n",
       "      <td>-0.846595</td>\n",
       "      <td>STANDING</td>\n",
       "      <td>False</td>\n",
       "      <td>5</td>\n",
       "    </tr>\n",
       "    <tr>\n",
       "      <th>13</th>\n",
       "      <td>0.269066</td>\n",
       "      <td>-0.027686</td>\n",
       "      <td>-0.110178</td>\n",
       "      <td>-0.996884</td>\n",
       "      <td>-0.986440</td>\n",
       "      <td>-0.988479</td>\n",
       "      <td>-0.997498</td>\n",
       "      <td>-0.987389</td>\n",
       "      <td>-0.989487</td>\n",
       "      <td>-0.941286</td>\n",
       "      <td>...</td>\n",
       "      <td>-0.999976</td>\n",
       "      <td>-0.993354</td>\n",
       "      <td>-1.000000</td>\n",
       "      <td>-0.968254</td>\n",
       "      <td>0.193194</td>\n",
       "      <td>-0.605233</td>\n",
       "      <td>-0.879209</td>\n",
       "      <td>STANDING</td>\n",
       "      <td>False</td>\n",
       "      <td>5</td>\n",
       "    </tr>\n",
       "    <tr>\n",
       "      <th>14</th>\n",
       "      <td>0.275579</td>\n",
       "      <td>-0.018936</td>\n",
       "      <td>-0.097410</td>\n",
       "      <td>-0.996065</td>\n",
       "      <td>-0.968225</td>\n",
       "      <td>-0.980696</td>\n",
       "      <td>-0.996218</td>\n",
       "      <td>-0.964627</td>\n",
       "      <td>-0.982347</td>\n",
       "      <td>-0.943252</td>\n",
       "      <td>...</td>\n",
       "      <td>-0.999969</td>\n",
       "      <td>-0.993221</td>\n",
       "      <td>-1.000000</td>\n",
       "      <td>-0.904762</td>\n",
       "      <td>0.224369</td>\n",
       "      <td>-0.720919</td>\n",
       "      <td>-0.930019</td>\n",
       "      <td>STANDING</td>\n",
       "      <td>False</td>\n",
       "      <td>5</td>\n",
       "    </tr>\n",
       "    <tr>\n",
       "      <th>21</th>\n",
       "      <td>0.271339</td>\n",
       "      <td>-0.029954</td>\n",
       "      <td>-0.118595</td>\n",
       "      <td>-0.960931</td>\n",
       "      <td>-0.905035</td>\n",
       "      <td>-0.871270</td>\n",
       "      <td>-0.973400</td>\n",
       "      <td>-0.905701</td>\n",
       "      <td>-0.856332</td>\n",
       "      <td>-0.864369</td>\n",
       "      <td>...</td>\n",
       "      <td>-0.992930</td>\n",
       "      <td>-0.916226</td>\n",
       "      <td>-0.277661</td>\n",
       "      <td>-1.000000</td>\n",
       "      <td>-0.048729</td>\n",
       "      <td>-0.078417</td>\n",
       "      <td>-0.515394</td>\n",
       "      <td>STANDING</td>\n",
       "      <td>False</td>\n",
       "      <td>5</td>\n",
       "    </tr>\n",
       "    <tr>\n",
       "      <th>24</th>\n",
       "      <td>0.275639</td>\n",
       "      <td>-0.015566</td>\n",
       "      <td>-0.125458</td>\n",
       "      <td>-0.989161</td>\n",
       "      <td>-0.968516</td>\n",
       "      <td>-0.968723</td>\n",
       "      <td>-0.990635</td>\n",
       "      <td>-0.969443</td>\n",
       "      <td>-0.967756</td>\n",
       "      <td>-0.930510</td>\n",
       "      <td>...</td>\n",
       "      <td>-0.999779</td>\n",
       "      <td>-0.981406</td>\n",
       "      <td>-0.776458</td>\n",
       "      <td>-0.968254</td>\n",
       "      <td>0.237547</td>\n",
       "      <td>-0.390130</td>\n",
       "      <td>-0.720884</td>\n",
       "      <td>STANDING</td>\n",
       "      <td>False</td>\n",
       "      <td>5</td>\n",
       "    </tr>\n",
       "  </tbody>\n",
       "</table>\n",
       "<p>5 rows × 431 columns</p>\n",
       "</div>"
      ],
      "text/plain": [
       "    tAcc-Mean-X1  tAcc-Mean-Y2  tAcc-Mean-Z3  tAcc-STD-X4  tAcc-STD-Y5  \\\n",
       "4       0.274833     -0.027848     -0.129527    -0.993852    -0.967445   \n",
       "13      0.269066     -0.027686     -0.110178    -0.996884    -0.986440   \n",
       "14      0.275579     -0.018936     -0.097410    -0.996065    -0.968225   \n",
       "21      0.271339     -0.029954     -0.118595    -0.960931    -0.905035   \n",
       "24      0.275639     -0.015566     -0.125458    -0.989161    -0.968516   \n",
       "\n",
       "    tAcc-STD-Z6  tAcc-mad-X7  tAcc-mad-Y8  tAcc-mad-Z9  tAcc-max-X10   ...     \\\n",
       "4     -0.978295    -0.994111    -0.965953    -0.977346     -0.938610   ...      \n",
       "13    -0.988479    -0.997498    -0.987389    -0.989487     -0.941286   ...      \n",
       "14    -0.980696    -0.996218    -0.964627    -0.982347     -0.943252   ...      \n",
       "21    -0.871270    -0.973400    -0.905701    -0.856332     -0.864369   ...      \n",
       "24    -0.968723    -0.990635    -0.969443    -0.967756     -0.930510   ...      \n",
       "\n",
       "    fGyroJerk-energy548  fGyroJerk-iqr549  fGyroJerk-entropy550  \\\n",
       "4             -0.999925         -0.986376             -0.895847   \n",
       "13            -0.999976         -0.993354             -1.000000   \n",
       "14            -0.999969         -0.993221             -1.000000   \n",
       "21            -0.992930         -0.916226             -0.277661   \n",
       "24            -0.999779         -0.981406             -0.776458   \n",
       "\n",
       "    fGyroJerk-maxInds551  fGyroJerk-MeanFreq552  fGyroJerk-skewness553  \\\n",
       "4              -0.936508              -0.121711              -0.534685   \n",
       "13             -0.968254               0.193194              -0.605233   \n",
       "14             -0.904762               0.224369              -0.720919   \n",
       "21             -1.000000              -0.048729              -0.078417   \n",
       "24             -0.968254               0.237547              -0.390130   \n",
       "\n",
       "    fGyroJerk-kurtosis554  activity  is_train  act_num  \n",
       "4               -0.846595  STANDING     False        5  \n",
       "13              -0.879209  STANDING     False        5  \n",
       "14              -0.930019  STANDING     False        5  \n",
       "21              -0.515394  STANDING     False        5  \n",
       "24              -0.720884  STANDING     False        5  \n",
       "\n",
       "[5 rows x 431 columns]"
      ]
     },
     "execution_count": 61,
     "metadata": {},
     "output_type": "execute_result"
    }
   ],
   "source": [
    "test.head()"
   ]
  },
  {
   "cell_type": "code",
   "execution_count": 62,
   "metadata": {
    "collapsed": false
   },
   "outputs": [
    {
     "ename": "NameError",
     "evalue": "name 'preds' is not defined",
     "output_type": "error",
     "traceback": [
      "\u001b[1;31m---------------------------------------------------------------------------\u001b[0m",
      "\u001b[1;31mNameError\u001b[0m                                 Traceback (most recent call last)",
      "\u001b[1;32m<ipython-input-62-3c6beb5764d1>\u001b[0m in \u001b[0;36m<module>\u001b[1;34m()\u001b[0m\n\u001b[1;32m----> 1\u001b[1;33m \u001b[0mpreds\u001b[0m\u001b[1;33m\u001b[0m\u001b[0m\n\u001b[0m",
      "\u001b[1;31mNameError\u001b[0m: name 'preds' is not defined"
     ]
    }
   ],
   "source": [
    "preds"
   ]
  },
  {
   "cell_type": "code",
   "execution_count": 54,
   "metadata": {
    "collapsed": false
   },
   "outputs": [
    {
     "data": {
      "text/plain": [
       "1               WALKING\n",
       "2      WALKING_UPSTAIRS\n",
       "3    WALKING_DOWNSTAIRS\n",
       "4               SITTING\n",
       "5              STANDING\n",
       "6                LAYING\n",
       "dtype: object"
      ]
     },
     "execution_count": 54,
     "metadata": {},
     "output_type": "execute_result"
    }
   ],
   "source": [
    "labels"
   ]
  },
  {
   "cell_type": "code",
   "execution_count": 46,
   "metadata": {
    "collapsed": false
   },
   "outputs": [
    {
     "data": {
      "text/plain": [
       "0       5\n",
       "1       5\n",
       "2       5\n",
       "3       5\n",
       "4       5\n",
       "5       5\n",
       "6       5\n",
       "7       5\n",
       "8       5\n",
       "9       5\n",
       "10      5\n",
       "11      5\n",
       "12      5\n",
       "13      5\n",
       "14      5\n",
       "15      5\n",
       "16      5\n",
       "17      5\n",
       "18      5\n",
       "19      5\n",
       "20      5\n",
       "21      5\n",
       "22      5\n",
       "23      5\n",
       "24      5\n",
       "25      5\n",
       "26      5\n",
       "27      5\n",
       "28      5\n",
       "29      5\n",
       "       ..\n",
       "2917    2\n",
       "2918    2\n",
       "2919    2\n",
       "2920    2\n",
       "2921    2\n",
       "2922    2\n",
       "2923    2\n",
       "2924    2\n",
       "2925    2\n",
       "2926    2\n",
       "2927    2\n",
       "2928    3\n",
       "2929    3\n",
       "2930    3\n",
       "2931    3\n",
       "2932    3\n",
       "2933    3\n",
       "2934    3\n",
       "2935    3\n",
       "2936    3\n",
       "2937    2\n",
       "2938    2\n",
       "2939    2\n",
       "2940    2\n",
       "2941    2\n",
       "2942    2\n",
       "2943    2\n",
       "2944    2\n",
       "2945    2\n",
       "2946    2\n",
       "Name: act_num, dtype: object"
      ]
     },
     "execution_count": 46,
     "metadata": {},
     "output_type": "execute_result"
    }
   ],
   "source": [
    "df.act_num"
   ]
  },
  {
   "cell_type": "code",
   "execution_count": null,
   "metadata": {
    "collapsed": true
   },
   "outputs": [],
   "source": []
  }
 ],
 "metadata": {
  "kernelspec": {
   "display_name": "Python 2",
   "language": "python",
   "name": "python2"
  },
  "language_info": {
   "codemirror_mode": {
    "name": "ipython",
    "version": 2
   },
   "file_extension": ".py",
   "mimetype": "text/x-python",
   "name": "python",
   "nbconvert_exporter": "python",
   "pygments_lexer": "ipython2",
   "version": "2.7.12"
  }
 },
 "nbformat": 4,
 "nbformat_minor": 0
}
