{
 "cells": [
  {
   "cell_type": "code",
   "execution_count": 1,
   "metadata": {
    "collapsed": true
   },
   "outputs": [],
   "source": [
    "# random tests\n"
   ]
  },
  {
   "cell_type": "code",
   "execution_count": 6,
   "metadata": {
    "collapsed": false
   },
   "outputs": [
    {
     "name": "stdout",
     "output_type": "stream",
     "text": [
      "len set 1 is 4\n",
      "len dup list is 3\n",
      "['a', 'b', 'd']\n"
     ]
    }
   ],
   "source": [
    "col_list = ['d','a','a','b','b','c','d']\n",
    "\n",
    "\n",
    "\n",
    "def find_dups(col_list):  \n",
    "    set1 = list(set(col_list)) # convert to set and back to a list to get unique items\n",
    "    print(\"len set 1 is {}\".format(len(set1)))\n",
    "    for item in set1:\n",
    "        col_list.remove(item) # remove all the unique records in the set from the complete list and only the dups should be left\n",
    "    dup_list = col_list\n",
    "    print(\"len dup list is {}\".format(len(dup_list)))\n",
    "    return(dup_list)\n",
    "\n",
    "\n",
    "test = find_dups(col_list)\n",
    "print(test)"
   ]
  },
  {
   "cell_type": "code",
   "execution_count": 8,
   "metadata": {
    "collapsed": false
   },
   "outputs": [
    {
     "ename": "NameError",
     "evalue": "name 'fAcc' is not defined",
     "output_type": "error",
     "traceback": [
      "\u001b[1;31m---------------------------------------------------------------------------\u001b[0m",
      "\u001b[1;31mNameError\u001b[0m                                 Traceback (most recent call last)",
      "\u001b[1;32m<ipython-input-8-8304ee2f9fb5>\u001b[0m in \u001b[0;36m<module>\u001b[1;34m()\u001b[0m\n\u001b[1;32m----> 1\u001b[1;33m \u001b[0mmystr\u001b[0m\u001b[1;33m=\u001b[0m \u001b[1;33m[\u001b[0m\u001b[0mfAcc\u001b[0m\u001b[1;33m-\u001b[0m\u001b[0mbandsEnergy\u001b[0m\u001b[1;33m-\u001b[0m\u001b[1;36m1\u001b[0m\u001b[1;33m-\u001b[0m\u001b[1;36m8303\u001b[0m\u001b[1;33m]\u001b[0m\u001b[1;33m\u001b[0m\u001b[0m\n\u001b[0m",
      "\u001b[1;31mNameError\u001b[0m: name 'fAcc' is not defined"
     ]
    }
   ],
   "source": [
    "mystr= 'bandsEnergy'\n"
   ]
  },
  {
   "cell_type": "code",
   "execution_count": 9,
   "metadata": {
    "collapsed": true
   },
   "outputs": [],
   "source": [
    "mylist = [\n",
    "    'tAcc-Mean-X1', 'tAcc-Mean-Y2', 'tAcc-Mean-Z3', 'tAcc-STD-X4', 'tAcc-STD-Y5', 'tAcc-STD-Z6', 'tAcc-mad-X7', 'tAcc-mad-Y8', 'tAcc-mad-Z9', 'tAcc-max-X10', 'tAcc-max-Y11', 'tAcc-max-Z12', 'tAcc-min-X13', 'tAcc-min-Y14', 'tAcc-min-Z15', 'tAcc-sma16', 'tAcc-energy-X17', 'tAcc-energy-Y18', 'tAcc-energy-Z19', 'tAcc-iqr-X20', 'tAcc-iqr-Y21', 'tAcc-iqr-Z22', 'tAcc-entropy-X23', 'tAcc-entropy-Y24', 'tAcc-entropy-Z25', 'tAcc-arCoeff-X-126', 'tAcc-arCoeff-X-227', 'tAcc-arCoeff-X-328', 'tAcc-arCoeff-X-429', 'tAcc-arCoeff-Y-130', 'tAcc-arCoeff-Y-231', 'tAcc-arCoeff-Y-332', 'tAcc-arCoeff-Y-433', 'tAcc-arCoeff-Z-134', 'tAcc-arCoeff-Z-235', 'tAcc-arCoeff-Z-336', 'tAcc-arCoeff-Z-437', 'tAcc-correlation-X-Y38', 'tAcc-correlation-X-Z39', 'tAcc-correlation-Y-Z40', 'tGravityAcc-Mean-X41', 'tGravityAcc-Mean-Y42', 'tGravityAcc-Mean-Z43', 'tGravityAcc-STD-X44', 'tGravityAcc-STD-Y45', 'tGravityAcc-STD-Z46', 'tGravityAcc-mad-X47', 'tGravityAcc-mad-Y48', 'tGravityAcc-mad-Z49', 'tGravityAcc-max-X50', 'tGravityAcc-max-Y51', 'tGravityAcc-max-Z52', 'tGravityAcc-min-X53', 'tGravityAcc-min-Y54', 'tGravityAcc-min-Z55', 'tGravityAcc-sma56', 'tGravityAcc-energy-X57', 'tGravityAcc-energy-Y58', 'tGravityAcc-energy-Z59', 'tGravityAcc-iqr-X60', 'tGravityAcc-iqr-Y61', 'tGravityAcc-iqr-Z62', 'tGravityAcc-entropy-X63', 'tGravityAcc-entropy-Y64', 'tGravityAcc-entropy-Z65', 'tGravityAcc-arCoeff-X-166', 'tGravityAcc-arCoeff-X-267', 'tGravityAcc-arCoeff-X-368', 'tGravityAcc-arCoeff-X-469', 'tGravityAcc-arCoeff-Y-170', 'tGravityAcc-arCoeff-Y-271', 'tGravityAcc-arCoeff-Y-372', 'tGravityAcc-arCoeff-Y-473', 'tGravityAcc-arCoeff-Z-174', 'tGravityAcc-arCoeff-Z-275', 'tGravityAcc-arCoeff-Z-376', 'tGravityAcc-arCoeff-Z-477', 'tGravityAcc-correlation-X-Y78', 'tGravityAcc-correlation-X-Z79', 'tGravityAcc-correlation-Y-Z80', 'tAccJerk-Mean-X81', 'tAccJerk-Mean-Y82', 'tAccJerk-Mean-Z83', 'tAccJerk-STD-X84', 'tAccJerk-STD-Y85', 'tAccJerk-STD-Z86', 'tAccJerk-mad-X87', 'tAccJerk-mad-Y88', 'tAccJerk-mad-Z89', 'tAccJerk-max-X90', 'tAccJerk-max-Y91', 'tAccJerk-max-Z92', 'tAccJerk-min-X93', 'tAccJerk-min-Y94', 'tAccJerk-min-Z95', 'tAccJerk-sma96', 'tAccJerk-energy-X97', 'tAccJerk-energy-Y98', 'tAccJerk-energy-Z99', 'tAccJerk-iqr-X100', 'tAccJerk-iqr-Y101', 'tAccJerk-iqr-Z102', 'tAccJerk-entropy-X103', 'tAccJerk-entropy-Y104', 'tAccJerk-entropy-Z105', 'tAccJerk-arCoeff-X-1106', 'tAccJerk-arCoeff-X-2107', 'tAccJerk-arCoeff-X-3108', 'tAccJerk-arCoeff-X-4109', 'tAccJerk-arCoeff-Y-1110', 'tAccJerk-arCoeff-Y-2111', 'tAccJerk-arCoeff-Y-3112', 'tAccJerk-arCoeff-Y-4113', 'tAccJerk-arCoeff-Z-1114', 'tAccJerk-arCoeff-Z-2115', 'tAccJerk-arCoeff-Z-3116', 'tAccJerk-arCoeff-Z-4117', 'tAccJerk-correlation-X-Y118', 'tAccJerk-correlation-X-Z119', 'tAccJerk-correlation-Y-Z120', 'tGyro-Mean-X121', 'tGyro-Mean-Y122', 'tGyro-Mean-Z123', 'tGyro-STD-X124', 'tGyro-STD-Y125', 'tGyro-STD-Z126', 'tGyro-mad-X127', 'tGyro-mad-Y128', 'tGyro-mad-Z129', 'tGyro-max-X130', 'tGyro-max-Y131', 'tGyro-max-Z132', 'tGyro-min-X133', 'tGyro-min-Y134', 'tGyro-min-Z135', 'tGyro-sma136', 'tGyro-energy-X137', 'tGyro-energy-Y138', 'tGyro-energy-Z139', 'tGyro-iqr-X140', 'tGyro-iqr-Y141', 'tGyro-iqr-Z142', 'tGyro-entropy-X143', 'tGyro-entropy-Y144', 'tGyro-entropy-Z145', 'tGyro-arCoeff-X-1146', 'tGyro-arCoeff-X-2147', 'tGyro-arCoeff-X-3148', 'tGyro-arCoeff-X-4149', 'tGyro-arCoeff-Y-1150', 'tGyro-arCoeff-Y-2151', 'tGyro-arCoeff-Y-3152', 'tGyro-arCoeff-Y-4153', 'tGyro-arCoeff-Z-1154', 'tGyro-arCoeff-Z-2155', 'tGyro-arCoeff-Z-3156', 'tGyro-arCoeff-Z-4157', 'tGyro-correlation-X-Y158', 'tGyro-correlation-X-Z159', 'tGyro-correlation-Y-Z160', 'tGyroJerk-Mean-X161', 'tGyroJerk-Mean-Y162', 'tGyroJerk-Mean-Z163', 'tGyroJerk-STD-X164', 'tGyroJerk-STD-Y165', 'tGyroJerk-STD-Z166', 'tGyroJerk-mad-X167', 'tGyroJerk-mad-Y168', 'tGyroJerk-mad-Z169', 'tGyroJerk-max-X170', 'tGyroJerk-max-Y171', 'tGyroJerk-max-Z172', 'tGyroJerk-min-X173', 'tGyroJerk-min-Y174', 'tGyroJerk-min-Z175', 'tGyroJerk-sma176', 'tGyroJerk-energy-X177', 'tGyroJerk-energy-Y178', 'tGyroJerk-energy-Z179', 'tGyroJerk-iqr-X180', 'tGyroJerk-iqr-Y181', 'tGyroJerk-iqr-Z182', 'tGyroJerk-entropy-X183', 'tGyroJerk-entropy-Y184', 'tGyroJerk-entropy-Z185', 'tGyroJerk-arCoeff-X-1186', 'tGyroJerk-arCoeff-X-2187', 'tGyroJerk-arCoeff-X-3188', 'tGyroJerk-arCoeff-X-4189', 'tGyroJerk-arCoeff-Y-1190', 'tGyroJerk-arCoeff-Y-2191', 'tGyroJerk-arCoeff-Y-3192', 'tGyroJerk-arCoeff-Y-4193', 'tGyroJerk-arCoeff-Z-1194', 'tGyroJerk-arCoeff-Z-2195', 'tGyroJerk-arCoeff-Z-3196', 'tGyroJerk-arCoeff-Z-4197', 'tGyroJerk-correlation-X-Y198', 'tGyroJerk-correlation-X-Z199', 'tGyroJerk-correlation-Y-Z200', 'tAcc-Mean201', 'tAcc-STD202', 'tAcc-mad203', 'tAcc-max204', 'tAcc-min205', 'tAcc-sma206', 'tAcc-energy207', 'tAcc-iqr208', 'tAcc-entropy209', 'tAcc-arCoeff1210', 'tAcc-arCoeff2211', 'tAcc-arCoeff3212', 'tAcc-arCoeff4213', 'tGravityAcc-Mean214', 'tGravityAcc-STD215', 'tGravityAcc-mad216', 'tGravityAcc-max217', 'tGravityAcc-min218', 'tGravityAcc-sma219', 'tGravityAcc-energy220', 'tGravityAcc-iqr221', 'tGravityAcc-entropy222', 'tGravityAcc-arCoeff1223', 'tGravityAcc-arCoeff2224', 'tGravityAcc-arCoeff3225', 'tGravityAcc-arCoeff4226', 'tAccJerk-Mean227', 'tAccJerk-STD228', 'tAccJerk-mad229', 'tAccJerk-max230', 'tAccJerk-min231', 'tAccJerk-sma232', 'tAccJerk-energy233', 'tAccJerk-iqr234', 'tAccJerk-entropy235', 'tAccJerk-arCoeff1236', 'tAccJerk-arCoeff2237', 'tAccJerk-arCoeff3238', 'tAccJerk-arCoeff4239', 'tGyro-Mean240', 'tGyro-STD241', 'tGyro-mad242', 'tGyro-max243', 'tGyro-min244', 'tGyro-sma245', 'tGyro-energy246', 'tGyro-iqr247', 'tGyro-entropy248', 'tGyro-arCoeff1249', 'tGyro-arCoeff2250', 'tGyro-arCoeff3251', 'tGyro-arCoeff4252', 'tGyroJerk-Mean253', 'tGyroJerk-STD254', 'tGyroJerk-mad255', 'tGyroJerk-max256', 'tGyroJerk-min257', 'tGyroJerk-sma258', 'tGyroJerk-energy259', 'tGyroJerk-iqr260', 'tGyroJerk-entropy261', 'tGyroJerk-arCoeff1262', 'tGyroJerk-arCoeff2263', 'tGyroJerk-arCoeff3264', 'tGyroJerk-arCoeff4265', 'fAcc-Mean-X266', 'fAcc-Mean-Y267', 'fAcc-Mean-Z268', 'fAcc-STD-X269', 'fAcc-STD-Y270', 'fAcc-STD-Z271', 'fAcc-mad-X272', 'fAcc-mad-Y273', 'fAcc-mad-Z274', 'fAcc-max-X275', 'fAcc-max-Y276', 'fAcc-max-Z277', 'fAcc-min-X278', 'fAcc-min-Y279', 'fAcc-min-Z280', 'fAcc-sma281', 'fAcc-energy-X282', 'fAcc-energy-Y283', 'fAcc-energy-Z284', 'fAcc-iqr-X285', 'fAcc-iqr-Y286', 'fAcc-iqr-Z287', 'fAcc-entropy-X288', 'fAcc-entropy-Y289', 'fAcc-entropy-Z290', 'fAcc-maxInds-X291', 'fAcc-maxInds-Y292', 'fAcc-maxInds-Z293', 'fAcc-MeanFreq-X294', 'fAcc-MeanFreq-Y295', 'fAcc-MeanFreq-Z296', 'fAcc-skewness-X297', 'fAcc-kurtosis-X298', 'fAcc-skewness-Y299', 'fAcc-kurtosis-Y300', 'fAcc-skewness-Z301', 'fAcc-kurtosis-Z302', 'fAcc-bandsEnergy-1-8303', 'fAcc-bandsEnergy-9-16304', 'fAcc-bandsEnergy-17-24305', 'fAcc-bandsEnergy-25-32306', 'fAcc-bandsEnergy-33-40307', 'fAcc-bandsEnergy-41-48308', 'fAcc-bandsEnergy-49-56309', 'fAcc-bandsEnergy-57-64310', 'fAcc-bandsEnergy-1-16311', 'fAcc-bandsEnergy-17-32312', 'fAcc-bandsEnergy-33-48313', 'fAcc-bandsEnergy-49-64314', 'fAcc-bandsEnergy-1-24315', 'fAcc-bandsEnergy-25-48316', 'fAcc-bandsEnergy-1-8317', 'fAcc-bandsEnergy-9-16318', 'fAcc-bandsEnergy-17-24319', 'fAcc-bandsEnergy-25-32320', 'fAcc-bandsEnergy-33-40321', 'fAcc-bandsEnergy-41-48322', 'fAcc-bandsEnergy-49-56323', 'fAcc-bandsEnergy-57-64324', 'fAcc-bandsEnergy-1-16325', 'fAcc-bandsEnergy-17-32326', 'fAcc-bandsEnergy-33-48327', 'fAcc-bandsEnergy-49-64328', 'fAcc-bandsEnergy-1-24329', 'fAcc-bandsEnergy-25-48330', 'fAcc-bandsEnergy-1-8331', 'fAcc-bandsEnergy-9-16332', 'fAcc-bandsEnergy-17-24333', 'fAcc-bandsEnergy-25-32334', 'fAcc-bandsEnergy-33-40335', 'fAcc-bandsEnergy-41-48336', 'fAcc-bandsEnergy-49-56337', 'fAcc-bandsEnergy-57-64338', 'fAcc-bandsEnergy-1-16339', 'fAcc-bandsEnergy-17-32340', 'fAcc-bandsEnergy-33-48341', 'fAcc-bandsEnergy-49-64342', 'fAcc-bandsEnergy-1-24343', 'fAcc-bandsEnergy-25-48344', 'fAccJerk-Mean-X345', 'fAccJerk-Mean-Y346', 'fAccJerk-Mean-Z347', 'fAccJerk-STD-X348', 'fAccJerk-STD-Y349', 'fAccJerk-STD-Z350', 'fAccJerk-mad-X351', 'fAccJerk-mad-Y352', 'fAccJerk-mad-Z353', 'fAccJerk-max-X354', 'fAccJerk-max-Y355', 'fAccJerk-max-Z356', 'fAccJerk-min-X357', 'fAccJerk-min-Y358', 'fAccJerk-min-Z359', 'fAccJerk-sma360', 'fAccJerk-energy-X361', 'fAccJerk-energy-Y362', 'fAccJerk-energy-Z363', 'fAccJerk-iqr-X364', 'fAccJerk-iqr-Y365', 'fAccJerk-iqr-Z366', 'fAccJerk-entropy-X367', 'fAccJerk-entropy-Y368', 'fAccJerk-entropy-Z369', 'fAccJerk-maxInds-X370', 'fAccJerk-maxInds-Y371', 'fAccJerk-maxInds-Z372', 'fAccJerk-MeanFreq-X373', 'fAccJerk-MeanFreq-Y374', 'fAccJerk-MeanFreq-Z375', 'fAccJerk-skewness-X376', 'fAccJerk-kurtosis-X377', 'fAccJerk-skewness-Y378', 'fAccJerk-kurtosis-Y379', 'fAccJerk-skewness-Z380', 'fAccJerk-kurtosis-Z381', 'fAccJerk-bandsEnergy-1-8382', 'fAccJerk-bandsEnergy-9-16383', 'fAccJerk-bandsEnergy-17-24384', 'fAccJerk-bandsEnergy-25-32385', 'fAccJerk-bandsEnergy-33-40386', 'fAccJerk-bandsEnergy-41-48387', 'fAccJerk-bandsEnergy-49-56388', 'fAccJerk-bandsEnergy-57-64389', 'fAccJerk-bandsEnergy-1-16390', 'fAccJerk-bandsEnergy-17-32391', 'fAccJerk-bandsEnergy-33-48392', 'fAccJerk-bandsEnergy-49-64393', 'fAccJerk-bandsEnergy-1-24394', 'fAccJerk-bandsEnergy-25-48395', 'fAccJerk-bandsEnergy-1-8396', 'fAccJerk-bandsEnergy-9-16397', 'fAccJerk-bandsEnergy-17-24398', 'fAccJerk-bandsEnergy-25-32399', 'fAccJerk-bandsEnergy-33-40400', 'fAccJerk-bandsEnergy-41-48401', 'fAccJerk-bandsEnergy-49-56402', 'fAccJerk-bandsEnergy-57-64403', 'fAccJerk-bandsEnergy-1-16404', 'fAccJerk-bandsEnergy-17-32405', 'fAccJerk-bandsEnergy-33-48406', 'fAccJerk-bandsEnergy-49-64407', 'fAccJerk-bandsEnergy-1-24408', 'fAccJerk-bandsEnergy-25-48409', 'fAccJerk-bandsEnergy-1-8410', 'fAccJerk-bandsEnergy-9-16411', 'fAccJerk-bandsEnergy-17-24412', 'fAccJerk-bandsEnergy-25-32413', 'fAccJerk-bandsEnergy-33-40414', 'fAccJerk-bandsEnergy-41-48415', 'fAccJerk-bandsEnergy-49-56416', 'fAccJerk-bandsEnergy-57-64417', 'fAccJerk-bandsEnergy-1-16418', 'fAccJerk-bandsEnergy-17-32419', 'fAccJerk-bandsEnergy-33-48420', 'fAccJerk-bandsEnergy-49-64421', 'fAccJerk-bandsEnergy-1-24422', 'fAccJerk-bandsEnergy-25-48423', 'fGyro-Mean-X424', 'fGyro-Mean-Y425', 'fGyro-Mean-Z426', 'fGyro-STD-X427', 'fGyro-STD-Y428', 'fGyro-STD-Z429', 'fGyro-mad-X430', 'fGyro-mad-Y431', 'fGyro-mad-Z432', 'fGyro-max-X433', 'fGyro-max-Y434', 'fGyro-max-Z435', 'fGyro-min-X436', 'fGyro-min-Y437', 'fGyro-min-Z438', 'fGyro-sma439', 'fGyro-energy-X440', 'fGyro-energy-Y441', 'fGyro-energy-Z442', 'fGyro-iqr-X443', 'fGyro-iqr-Y444', 'fGyro-iqr-Z445', 'fGyro-entropy-X446', 'fGyro-entropy-Y447', 'fGyro-entropy-Z448', 'fGyro-maxInds-X449', 'fGyro-maxInds-Y450', 'fGyro-maxInds-Z451', 'fGyro-MeanFreq-X452', 'fGyro-MeanFreq-Y453', 'fGyro-MeanFreq-Z454', 'fGyro-skewness-X455', 'fGyro-kurtosis-X456', 'fGyro-skewness-Y457', 'fGyro-kurtosis-Y458', 'fGyro-skewness-Z459', 'fGyro-kurtosis-Z460', 'fGyro-bandsEnergy-1-8461', 'fGyro-bandsEnergy-9-16462', 'fGyro-bandsEnergy-17-24463', 'fGyro-bandsEnergy-25-32464', 'fGyro-bandsEnergy-33-40465', 'fGyro-bandsEnergy-41-48466', 'fGyro-bandsEnergy-49-56467', 'fGyro-bandsEnergy-57-64468', 'fGyro-bandsEnergy-1-16469', 'fGyro-bandsEnergy-17-32470', 'fGyro-bandsEnergy-33-48471', 'fGyro-bandsEnergy-49-64472', 'fGyro-bandsEnergy-1-24473', 'fGyro-bandsEnergy-25-48474', 'fGyro-bandsEnergy-1-8475', 'fGyro-bandsEnergy-9-16476', 'fGyro-bandsEnergy-17-24477', 'fGyro-bandsEnergy-25-32478', 'fGyro-bandsEnergy-33-40479', 'fGyro-bandsEnergy-41-48480', 'fGyro-bandsEnergy-49-56481', 'fGyro-bandsEnergy-57-64482', 'fGyro-bandsEnergy-1-16483', 'fGyro-bandsEnergy-17-32484', 'fGyro-bandsEnergy-33-48485', 'fGyro-bandsEnergy-49-64486', 'fGyro-bandsEnergy-1-24487', 'fGyro-bandsEnergy-25-48488', 'fGyro-bandsEnergy-1-8489', 'fGyro-bandsEnergy-9-16490', 'fGyro-bandsEnergy-17-24491', 'fGyro-bandsEnergy-25-32492', 'fGyro-bandsEnergy-33-40493', 'fGyro-bandsEnergy-41-48494', 'fGyro-bandsEnergy-49-56495', 'fGyro-bandsEnergy-57-64496', 'fGyro-bandsEnergy-1-16497', 'fGyro-bandsEnergy-17-32498', 'fGyro-bandsEnergy-33-48499', 'fGyro-bandsEnergy-49-64500', 'fGyro-bandsEnergy-1-24501', 'fGyro-bandsEnergy-25-48502', 'fAcc-Mean503', 'fAcc-STD504', 'fAcc-mad505', 'fAcc-max506', 'fAcc-min507', 'fAcc-sma508', 'fAcc-energy509', 'fAcc-iqr510', 'fAcc-entropy511', 'fAcc-maxInds512', 'fAcc-MeanFreq513', 'fAcc-skewness514', 'fAcc-kurtosis515', 'fAccJerk-Mean516', 'fAccJerk-STD517', 'fAccJerk-mad518', 'fAccJerk-max519', 'fAccJerk-min520', 'fAccJerk-sma521', 'fAccJerk-energy522', 'fAccJerk-iqr523', 'fAccJerk-entropy524', 'fAccJerk-maxInds525', 'fAccJerk-MeanFreq526', 'fAccJerk-skewness527', 'fAccJerk-kurtosis528', 'fGyro-Mean529', 'fGyro-STD530', 'fGyro-mad531', 'fGyro-max532', 'fGyro-min533', 'fGyro-sma534', 'fGyro-energy535', 'fGyro-iqr536', 'fGyro-entropy537', 'fGyro-maxInds538', 'fGyro-MeanFreq539', 'fGyro-skewness540', 'fGyro-kurtosis541', 'fGyroJerk-Mean542', 'fGyroJerk-STD543', 'fGyroJerk-mad544', 'fGyroJerk-max545', 'fGyroJerk-min546', 'fGyroJerk-sma547', 'fGyroJerk-energy548', 'fGyroJerk-iqr549', 'fGyroJerk-entropy550', 'fGyroJerk-maxInds551', 'fGyroJerk-MeanFreq552', 'fGyroJerk-skewness553', 'fGyroJerk-kurtosis554', 'angletAccMean-gravity555', 'angletAccJerkMean-gravityMean556', 'angletGyroMean-gravityMean557', 'angletGyroJerkMean-gravityMean558', 'angleX-gravityMean559', 'angleY-gravityMean560', 'angleZ-gravityMean561']"
   ]
  },
  {
   "cell_type": "code",
   "execution_count": 10,
   "metadata": {
    "collapsed": false
   },
   "outputs": [
    {
     "name": "stdout",
     "output_type": "stream",
     "text": [
      "fAcc-bandsEnergy-1-8303\n",
      "fAcc-bandsEnergy-9-16304\n",
      "fAcc-bandsEnergy-17-24305\n",
      "fAcc-bandsEnergy-25-32306\n",
      "fAcc-bandsEnergy-33-40307\n",
      "fAcc-bandsEnergy-41-48308\n",
      "fAcc-bandsEnergy-49-56309\n",
      "fAcc-bandsEnergy-57-64310\n",
      "fAcc-bandsEnergy-1-16311\n",
      "fAcc-bandsEnergy-17-32312\n",
      "fAcc-bandsEnergy-33-48313\n",
      "fAcc-bandsEnergy-49-64314\n",
      "fAcc-bandsEnergy-1-24315\n",
      "fAcc-bandsEnergy-25-48316\n",
      "fAcc-bandsEnergy-1-8317\n",
      "fAcc-bandsEnergy-9-16318\n",
      "fAcc-bandsEnergy-17-24319\n",
      "fAcc-bandsEnergy-25-32320\n",
      "fAcc-bandsEnergy-33-40321\n",
      "fAcc-bandsEnergy-41-48322\n",
      "fAcc-bandsEnergy-49-56323\n",
      "fAcc-bandsEnergy-57-64324\n",
      "fAcc-bandsEnergy-1-16325\n",
      "fAcc-bandsEnergy-17-32326\n",
      "fAcc-bandsEnergy-33-48327\n",
      "fAcc-bandsEnergy-49-64328\n",
      "fAcc-bandsEnergy-1-24329\n",
      "fAcc-bandsEnergy-25-48330\n",
      "fAcc-bandsEnergy-1-8331\n",
      "fAcc-bandsEnergy-9-16332\n",
      "fAcc-bandsEnergy-17-24333\n",
      "fAcc-bandsEnergy-25-32334\n",
      "fAcc-bandsEnergy-33-40335\n",
      "fAcc-bandsEnergy-41-48336\n",
      "fAcc-bandsEnergy-49-56337\n",
      "fAcc-bandsEnergy-57-64338\n",
      "fAcc-bandsEnergy-1-16339\n",
      "fAcc-bandsEnergy-17-32340\n",
      "fAcc-bandsEnergy-33-48341\n",
      "fAcc-bandsEnergy-49-64342\n",
      "fAcc-bandsEnergy-1-24343\n",
      "fAcc-bandsEnergy-25-48344\n",
      "fAccJerk-bandsEnergy-1-8382\n",
      "fAccJerk-bandsEnergy-9-16383\n",
      "fAccJerk-bandsEnergy-17-24384\n",
      "fAccJerk-bandsEnergy-25-32385\n",
      "fAccJerk-bandsEnergy-33-40386\n",
      "fAccJerk-bandsEnergy-41-48387\n",
      "fAccJerk-bandsEnergy-49-56388\n",
      "fAccJerk-bandsEnergy-57-64389\n",
      "fAccJerk-bandsEnergy-1-16390\n",
      "fAccJerk-bandsEnergy-17-32391\n",
      "fAccJerk-bandsEnergy-33-48392\n",
      "fAccJerk-bandsEnergy-49-64393\n",
      "fAccJerk-bandsEnergy-1-24394\n",
      "fAccJerk-bandsEnergy-25-48395\n",
      "fAccJerk-bandsEnergy-1-8396\n",
      "fAccJerk-bandsEnergy-9-16397\n",
      "fAccJerk-bandsEnergy-17-24398\n",
      "fAccJerk-bandsEnergy-25-32399\n",
      "fAccJerk-bandsEnergy-33-40400\n",
      "fAccJerk-bandsEnergy-41-48401\n",
      "fAccJerk-bandsEnergy-49-56402\n",
      "fAccJerk-bandsEnergy-57-64403\n",
      "fAccJerk-bandsEnergy-1-16404\n",
      "fAccJerk-bandsEnergy-17-32405\n",
      "fAccJerk-bandsEnergy-33-48406\n",
      "fAccJerk-bandsEnergy-49-64407\n",
      "fAccJerk-bandsEnergy-1-24408\n",
      "fAccJerk-bandsEnergy-25-48409\n",
      "fAccJerk-bandsEnergy-1-8410\n",
      "fAccJerk-bandsEnergy-9-16411\n",
      "fAccJerk-bandsEnergy-17-24412\n",
      "fAccJerk-bandsEnergy-25-32413\n",
      "fAccJerk-bandsEnergy-33-40414\n",
      "fAccJerk-bandsEnergy-41-48415\n",
      "fAccJerk-bandsEnergy-49-56416\n",
      "fAccJerk-bandsEnergy-57-64417\n",
      "fAccJerk-bandsEnergy-1-16418\n",
      "fAccJerk-bandsEnergy-17-32419\n",
      "fAccJerk-bandsEnergy-33-48420\n",
      "fAccJerk-bandsEnergy-49-64421\n",
      "fAccJerk-bandsEnergy-1-24422\n",
      "fAccJerk-bandsEnergy-25-48423\n",
      "fGyro-bandsEnergy-1-8461\n",
      "fGyro-bandsEnergy-9-16462\n",
      "fGyro-bandsEnergy-17-24463\n",
      "fGyro-bandsEnergy-25-32464\n",
      "fGyro-bandsEnergy-33-40465\n",
      "fGyro-bandsEnergy-41-48466\n",
      "fGyro-bandsEnergy-49-56467\n",
      "fGyro-bandsEnergy-57-64468\n",
      "fGyro-bandsEnergy-1-16469\n",
      "fGyro-bandsEnergy-17-32470\n",
      "fGyro-bandsEnergy-33-48471\n",
      "fGyro-bandsEnergy-49-64472\n",
      "fGyro-bandsEnergy-1-24473\n",
      "fGyro-bandsEnergy-25-48474\n",
      "fGyro-bandsEnergy-1-8475\n",
      "fGyro-bandsEnergy-9-16476\n",
      "fGyro-bandsEnergy-17-24477\n",
      "fGyro-bandsEnergy-25-32478\n",
      "fGyro-bandsEnergy-33-40479\n",
      "fGyro-bandsEnergy-41-48480\n",
      "fGyro-bandsEnergy-49-56481\n",
      "fGyro-bandsEnergy-57-64482\n",
      "fGyro-bandsEnergy-1-16483\n",
      "fGyro-bandsEnergy-17-32484\n",
      "fGyro-bandsEnergy-33-48485\n",
      "fGyro-bandsEnergy-49-64486\n",
      "fGyro-bandsEnergy-1-24487\n",
      "fGyro-bandsEnergy-25-48488\n",
      "fGyro-bandsEnergy-1-8489\n",
      "fGyro-bandsEnergy-9-16490\n",
      "fGyro-bandsEnergy-17-24491\n",
      "fGyro-bandsEnergy-25-32492\n",
      "fGyro-bandsEnergy-33-40493\n",
      "fGyro-bandsEnergy-41-48494\n",
      "fGyro-bandsEnergy-49-56495\n",
      "fGyro-bandsEnergy-57-64496\n",
      "fGyro-bandsEnergy-1-16497\n",
      "fGyro-bandsEnergy-17-32498\n",
      "fGyro-bandsEnergy-33-48499\n",
      "fGyro-bandsEnergy-49-64500\n",
      "fGyro-bandsEnergy-1-24501\n",
      "fGyro-bandsEnergy-25-48502\n"
     ]
    }
   ],
   "source": [
    "for item in mylist:\n",
    "    if 'bands' in item:\n",
    "        print(item)"
   ]
  },
  {
   "cell_type": "code",
   "execution_count": null,
   "metadata": {
    "collapsed": true
   },
   "outputs": [],
   "source": []
  }
 ],
 "metadata": {
  "kernelspec": {
   "display_name": "Python 2",
   "language": "python",
   "name": "python2"
  },
  "language_info": {
   "codemirror_mode": {
    "name": "ipython",
    "version": 2
   },
   "file_extension": ".py",
   "mimetype": "text/x-python",
   "name": "python",
   "nbconvert_exporter": "python",
   "pygments_lexer": "ipython2",
   "version": "2.7.12"
  }
 },
 "nbformat": 4,
 "nbformat_minor": 0
}
